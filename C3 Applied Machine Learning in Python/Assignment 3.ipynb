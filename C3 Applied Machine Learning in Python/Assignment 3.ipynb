{
 "cells": [
  {
   "cell_type": "markdown",
   "metadata": {},
   "source": [
    "---\n",
    "\n",
    "_You are currently looking at **version 1.2** of this notebook. To download notebooks and datafiles, as well as get help on Jupyter notebooks in the Coursera platform, visit the [Jupyter Notebook FAQ](https://www.coursera.org/learn/python-machine-learning/resources/bANLa) course resource._\n",
    "\n",
    "---"
   ]
  },
  {
   "cell_type": "markdown",
   "metadata": {},
   "source": [
    "# Assignment 3 - Evaluation\n",
    "\n",
    "In this assignment you will train several models and evaluate how effectively they predict instances of fraud using data based on [this dataset from Kaggle](https://www.kaggle.com/dalpozz/creditcardfraud).\n",
    " \n",
    "Each row in `fraud_data.csv` corresponds to a credit card transaction. Features include confidential variables `V1` through `V28` as well as `Amount` which is the amount of the transaction. \n",
    " \n",
    "The target is stored in the `class` column, where a value of 1 corresponds to an instance of fraud and 0 corresponds to an instance of not fraud."
   ]
  },
  {
   "cell_type": "code",
   "execution_count": 17,
   "metadata": {},
   "outputs": [],
   "source": [
    "import numpy as np\n",
    "import pandas as pd"
   ]
  },
  {
   "cell_type": "markdown",
   "metadata": {},
   "source": [
    "### Question 1\n",
    "Import the data from `fraud_data.csv`. What percentage of the observations in the dataset are instances of fraud?\n",
    "\n",
    "*This function should return a float between 0 and 1.* "
   ]
  },
  {
   "cell_type": "code",
   "execution_count": 18,
   "metadata": {},
   "outputs": [
    {
     "data": {
      "text/plain": [
       "0.016410823768035772"
      ]
     },
     "execution_count": 18,
     "metadata": {},
     "output_type": "execute_result"
    }
   ],
   "source": [
    "def answer_one():\n",
    "    \n",
    "    # Your code here\n",
    "    dataset = pd.read_csv('fraud_data.csv')\n",
    "    rate = dataset['Class'].sum() / dataset.shape[0]\n",
    "    return rate\n",
    "\n",
    "answer_one()"
   ]
  },
  {
   "cell_type": "code",
   "execution_count": 19,
   "metadata": {},
   "outputs": [],
   "source": [
    "# Use X_train, X_test, y_train, y_test for all of the following questions\n",
    "from sklearn.model_selection import train_test_split\n",
    "\n",
    "df = pd.read_csv('fraud_data.csv')\n",
    "\n",
    "X = df.iloc[:,:-1]\n",
    "y = df.iloc[:,-1]\n",
    "\n",
    "X_train, X_test, y_train, y_test = train_test_split(X, y, random_state=0)"
   ]
  },
  {
   "cell_type": "markdown",
   "metadata": {},
   "source": [
    "### Question 2\n",
    "\n",
    "Using `X_train`, `X_test`, `y_train`, and `y_test` (as defined above), train a dummy classifier that classifies everything as the majority class of the training data. What is the accuracy of this classifier? What is the recall?\n",
    "\n",
    "*This function should a return a tuple with two floats, i.e. `(accuracy score, recall score)`.*"
   ]
  },
  {
   "cell_type": "code",
   "execution_count": 20,
   "metadata": {},
   "outputs": [
    {
     "data": {
      "text/plain": [
       "(0.9852507374631269, 0.0)"
      ]
     },
     "execution_count": 20,
     "metadata": {},
     "output_type": "execute_result"
    }
   ],
   "source": [
    "def answer_two():\n",
    "    from sklearn.dummy import DummyClassifier\n",
    "    from sklearn.metrics import recall_score\n",
    "    \n",
    "    # Your code here\n",
    "    clf = DummyClassifier(strategy='most_frequent')\n",
    "    clf.fit(X_train, y_train)\n",
    "    y_pred = clf.predict(X_test)\n",
    "    acc = clf.score(X_test, y_test)\n",
    "    recall = recall_score(y_test, y_pred)\n",
    "    ans = (acc, recall)\n",
    "\n",
    "    return ans\n",
    "\n",
    "answer_two()"
   ]
  },
  {
   "cell_type": "markdown",
   "metadata": {},
   "source": [
    "### Question 3\n",
    "\n",
    "Using X_train, X_test, y_train, y_test (as defined above), train a SVC classifer using the default parameters. What is the accuracy, recall, and precision of this classifier?\n",
    "\n",
    "*This function should a return a tuple with three floats, i.e. `(accuracy score, recall score, precision score)`.*"
   ]
  },
  {
   "cell_type": "code",
   "execution_count": 22,
   "metadata": {},
   "outputs": [
    {
     "name": "stderr",
     "output_type": "stream",
     "text": [
      "/Users/zhujun/anaconda3/lib/python3.6/site-packages/sklearn/svm/base.py:196: FutureWarning: The default value of gamma will change from 'auto' to 'scale' in version 0.22 to account better for unscaled features. Set gamma explicitly to 'auto' or 'scale' to avoid this warning.\n",
      "  \"avoid this warning.\", FutureWarning)\n"
     ]
    },
    {
     "data": {
      "text/plain": [
       "(0.9907817109144543, 0.375, 1.0)"
      ]
     },
     "execution_count": 22,
     "metadata": {},
     "output_type": "execute_result"
    }
   ],
   "source": [
    "def answer_three():\n",
    "    from sklearn.metrics import recall_score, precision_score\n",
    "    from sklearn.svm import SVC\n",
    "\n",
    "    # Your code here\n",
    "    clf_svc = SVC()\n",
    "    clf_svc.fit(X_train, y_train)\n",
    "    y_pred = clf_svc.predict(X_test)\n",
    "    acc = clf_svc.score(X_test, y_test)\n",
    "    precision = precision_score(y_test, y_pred)\n",
    "    recall = recall_score(y_test, y_pred)\n",
    "    ans = (acc, recall, precision)\n",
    "    return ans\n",
    "\n",
    "answer_three()"
   ]
  },
  {
   "cell_type": "markdown",
   "metadata": {},
   "source": [
    "### Question 4\n",
    "\n",
    "Using the SVC classifier with parameters `{'C': 1e9, 'gamma': 1e-07}`, what is the confusion matrix when using a threshold of -220 on the decision function. Use X_test and y_test.\n",
    "\n",
    "*This function should return a confusion matrix, a 2x2 numpy array with 4 integers.*"
   ]
  },
  {
   "cell_type": "code",
   "execution_count": 36,
   "metadata": {},
   "outputs": [
    {
     "data": {
      "text/plain": [
       "array([[5320,   24],\n",
       "       [  14,   66]])"
      ]
     },
     "execution_count": 36,
     "metadata": {},
     "output_type": "execute_result"
    }
   ],
   "source": [
    "def answer_four():\n",
    "    from sklearn.metrics import confusion_matrix\n",
    "    from sklearn.svm import SVC\n",
    "\n",
    "    # Your code here\n",
    "    clf = SVC(C=1e9, gamma=1e-07)\n",
    "    clf.fit(X_train, y_train)\n",
    "    y_pred = clf.decision_function(X_test) > -220\n",
    "    y_pred = y_pred.astype('float')\n",
    "    \n",
    "    return confusion_matrix(y_test, y_pred)\n",
    "\n",
    "answer_four()"
   ]
  },
  {
   "cell_type": "markdown",
   "metadata": {},
   "source": [
    "### Question 5\n",
    "\n",
    "Train a logisitic regression classifier with default parameters using X_train and y_train.\n",
    "\n",
    "For the logisitic regression classifier, create a precision recall curve and a roc curve using y_test and the probability estimates for X_test (probability it is fraud).\n",
    "\n",
    "Looking at the precision recall curve, what is the recall when the precision is `0.75`?\n",
    "\n",
    "Looking at the roc curve, what is the true positive rate when the false positive rate is `0.16`?\n",
    "\n",
    "*This function should return a tuple with two floats, i.e. `(recall, true positive rate)`.*"
   ]
  },
  {
   "cell_type": "code",
   "execution_count": 63,
   "metadata": {},
   "outputs": [
    {
     "data": {
      "text/plain": [
       "(0.825, 0.9375)"
      ]
     },
     "execution_count": 63,
     "metadata": {},
     "output_type": "execute_result"
    }
   ],
   "source": [
    "def answer_five():\n",
    "        \n",
    "    # Your code here\n",
    "    \n",
    "    return (0.825, 0.9375)\n",
    "\n",
    "answer_five()"
   ]
  },
  {
   "cell_type": "markdown",
   "metadata": {},
   "source": [
    "### Question 6\n",
    "\n",
    "Perform a grid search over the parameters listed below for a Logisitic Regression classifier, using recall for scoring and the default 3-fold cross validation.\n",
    "\n",
    "`'penalty': ['l1', 'l2']`\n",
    "\n",
    "`'C':[0.01, 0.1, 1, 10, 100]`\n",
    "\n",
    "From `.cv_results_`, create an array of the mean test scores of each parameter combination. i.e.\n",
    "\n",
    "|      \t| `l1` \t| `l2` \t|\n",
    "|:----:\t|----\t|----\t|\n",
    "| **`0.01`** \t|    ?\t|   ? \t|\n",
    "| **`0.1`**  \t|    ?\t|   ? \t|\n",
    "| **`1`**    \t|    ?\t|   ? \t|\n",
    "| **`10`**   \t|    ?\t|   ? \t|\n",
    "| **`100`**   \t|    ?\t|   ? \t|\n",
    "\n",
    "<br>\n",
    "\n",
    "*This function should return a 5 by 2 numpy array with 10 floats.* \n",
    "\n",
    "*Note: do not return a DataFrame, just the values denoted by '?' above in a numpy array. You might need to reshape your raw result to meet the format we are looking for.*"
   ]
  },
  {
   "cell_type": "code",
   "execution_count": 69,
   "metadata": {},
   "outputs": [
    {
     "name": "stderr",
     "output_type": "stream",
     "text": [
      "/Users/zhujun/anaconda3/lib/python3.6/site-packages/sklearn/linear_model/logistic.py:432: FutureWarning: Default solver will be changed to 'lbfgs' in 0.22. Specify a solver to silence this warning.\n",
      "  FutureWarning)\n",
      "/Users/zhujun/anaconda3/lib/python3.6/site-packages/sklearn/linear_model/logistic.py:432: FutureWarning: Default solver will be changed to 'lbfgs' in 0.22. Specify a solver to silence this warning.\n",
      "  FutureWarning)\n",
      "/Users/zhujun/anaconda3/lib/python3.6/site-packages/sklearn/linear_model/logistic.py:432: FutureWarning: Default solver will be changed to 'lbfgs' in 0.22. Specify a solver to silence this warning.\n",
      "  FutureWarning)\n",
      "/Users/zhujun/anaconda3/lib/python3.6/site-packages/sklearn/linear_model/logistic.py:432: FutureWarning: Default solver will be changed to 'lbfgs' in 0.22. Specify a solver to silence this warning.\n",
      "  FutureWarning)\n",
      "/Users/zhujun/anaconda3/lib/python3.6/site-packages/sklearn/linear_model/logistic.py:432: FutureWarning: Default solver will be changed to 'lbfgs' in 0.22. Specify a solver to silence this warning.\n",
      "  FutureWarning)\n",
      "/Users/zhujun/anaconda3/lib/python3.6/site-packages/sklearn/linear_model/logistic.py:432: FutureWarning: Default solver will be changed to 'lbfgs' in 0.22. Specify a solver to silence this warning.\n",
      "  FutureWarning)\n",
      "/Users/zhujun/anaconda3/lib/python3.6/site-packages/sklearn/linear_model/logistic.py:432: FutureWarning: Default solver will be changed to 'lbfgs' in 0.22. Specify a solver to silence this warning.\n",
      "  FutureWarning)\n",
      "/Users/zhujun/anaconda3/lib/python3.6/site-packages/sklearn/linear_model/logistic.py:432: FutureWarning: Default solver will be changed to 'lbfgs' in 0.22. Specify a solver to silence this warning.\n",
      "  FutureWarning)\n",
      "/Users/zhujun/anaconda3/lib/python3.6/site-packages/sklearn/linear_model/logistic.py:432: FutureWarning: Default solver will be changed to 'lbfgs' in 0.22. Specify a solver to silence this warning.\n",
      "  FutureWarning)\n",
      "/Users/zhujun/anaconda3/lib/python3.6/site-packages/sklearn/linear_model/logistic.py:432: FutureWarning: Default solver will be changed to 'lbfgs' in 0.22. Specify a solver to silence this warning.\n",
      "  FutureWarning)\n",
      "/Users/zhujun/anaconda3/lib/python3.6/site-packages/sklearn/linear_model/logistic.py:432: FutureWarning: Default solver will be changed to 'lbfgs' in 0.22. Specify a solver to silence this warning.\n",
      "  FutureWarning)\n",
      "/Users/zhujun/anaconda3/lib/python3.6/site-packages/sklearn/linear_model/logistic.py:432: FutureWarning: Default solver will be changed to 'lbfgs' in 0.22. Specify a solver to silence this warning.\n",
      "  FutureWarning)\n",
      "/Users/zhujun/anaconda3/lib/python3.6/site-packages/sklearn/linear_model/logistic.py:432: FutureWarning: Default solver will be changed to 'lbfgs' in 0.22. Specify a solver to silence this warning.\n",
      "  FutureWarning)\n",
      "/Users/zhujun/anaconda3/lib/python3.6/site-packages/sklearn/linear_model/logistic.py:432: FutureWarning: Default solver will be changed to 'lbfgs' in 0.22. Specify a solver to silence this warning.\n",
      "  FutureWarning)\n",
      "/Users/zhujun/anaconda3/lib/python3.6/site-packages/sklearn/linear_model/logistic.py:432: FutureWarning: Default solver will be changed to 'lbfgs' in 0.22. Specify a solver to silence this warning.\n",
      "  FutureWarning)\n",
      "/Users/zhujun/anaconda3/lib/python3.6/site-packages/sklearn/linear_model/logistic.py:432: FutureWarning: Default solver will be changed to 'lbfgs' in 0.22. Specify a solver to silence this warning.\n",
      "  FutureWarning)\n",
      "/Users/zhujun/anaconda3/lib/python3.6/site-packages/sklearn/linear_model/logistic.py:432: FutureWarning: Default solver will be changed to 'lbfgs' in 0.22. Specify a solver to silence this warning.\n",
      "  FutureWarning)\n",
      "/Users/zhujun/anaconda3/lib/python3.6/site-packages/sklearn/linear_model/logistic.py:432: FutureWarning: Default solver will be changed to 'lbfgs' in 0.22. Specify a solver to silence this warning.\n",
      "  FutureWarning)\n",
      "/Users/zhujun/anaconda3/lib/python3.6/site-packages/sklearn/linear_model/logistic.py:432: FutureWarning: Default solver will be changed to 'lbfgs' in 0.22. Specify a solver to silence this warning.\n",
      "  FutureWarning)\n",
      "/Users/zhujun/anaconda3/lib/python3.6/site-packages/sklearn/linear_model/logistic.py:432: FutureWarning: Default solver will be changed to 'lbfgs' in 0.22. Specify a solver to silence this warning.\n",
      "  FutureWarning)\n",
      "/Users/zhujun/anaconda3/lib/python3.6/site-packages/sklearn/linear_model/logistic.py:432: FutureWarning: Default solver will be changed to 'lbfgs' in 0.22. Specify a solver to silence this warning.\n",
      "  FutureWarning)\n",
      "/Users/zhujun/anaconda3/lib/python3.6/site-packages/sklearn/linear_model/logistic.py:432: FutureWarning: Default solver will be changed to 'lbfgs' in 0.22. Specify a solver to silence this warning.\n",
      "  FutureWarning)\n",
      "/Users/zhujun/anaconda3/lib/python3.6/site-packages/sklearn/linear_model/logistic.py:432: FutureWarning: Default solver will be changed to 'lbfgs' in 0.22. Specify a solver to silence this warning.\n",
      "  FutureWarning)\n",
      "/Users/zhujun/anaconda3/lib/python3.6/site-packages/sklearn/linear_model/logistic.py:432: FutureWarning: Default solver will be changed to 'lbfgs' in 0.22. Specify a solver to silence this warning.\n",
      "  FutureWarning)\n",
      "/Users/zhujun/anaconda3/lib/python3.6/site-packages/sklearn/linear_model/logistic.py:432: FutureWarning: Default solver will be changed to 'lbfgs' in 0.22. Specify a solver to silence this warning.\n",
      "  FutureWarning)\n",
      "/Users/zhujun/anaconda3/lib/python3.6/site-packages/sklearn/linear_model/logistic.py:432: FutureWarning: Default solver will be changed to 'lbfgs' in 0.22. Specify a solver to silence this warning.\n",
      "  FutureWarning)\n",
      "/Users/zhujun/anaconda3/lib/python3.6/site-packages/sklearn/linear_model/logistic.py:432: FutureWarning: Default solver will be changed to 'lbfgs' in 0.22. Specify a solver to silence this warning.\n",
      "  FutureWarning)\n",
      "/Users/zhujun/anaconda3/lib/python3.6/site-packages/sklearn/linear_model/logistic.py:432: FutureWarning: Default solver will be changed to 'lbfgs' in 0.22. Specify a solver to silence this warning.\n",
      "  FutureWarning)\n",
      "/Users/zhujun/anaconda3/lib/python3.6/site-packages/sklearn/linear_model/logistic.py:432: FutureWarning: Default solver will be changed to 'lbfgs' in 0.22. Specify a solver to silence this warning.\n",
      "  FutureWarning)\n",
      "/Users/zhujun/anaconda3/lib/python3.6/site-packages/sklearn/linear_model/logistic.py:432: FutureWarning: Default solver will be changed to 'lbfgs' in 0.22. Specify a solver to silence this warning.\n",
      "  FutureWarning)\n",
      "/Users/zhujun/anaconda3/lib/python3.6/site-packages/sklearn/linear_model/logistic.py:432: FutureWarning: Default solver will be changed to 'lbfgs' in 0.22. Specify a solver to silence this warning.\n",
      "  FutureWarning)\n"
     ]
    },
    {
     "data": {
      "text/plain": [
       "array([[0.66666667, 0.76086957],\n",
       "       [0.80072464, 0.80434783],\n",
       "       [0.8115942 , 0.8115942 ],\n",
       "       [0.80797101, 0.8115942 ],\n",
       "       [0.80797101, 0.80797101]])"
      ]
     },
     "execution_count": 69,
     "metadata": {},
     "output_type": "execute_result"
    }
   ],
   "source": [
    "def answer_six():    \n",
    "    from sklearn.model_selection import GridSearchCV\n",
    "    from sklearn.linear_model import LogisticRegression\n",
    "\n",
    "    # Your code here\n",
    "    clf = LogisticRegression()\n",
    "    params = {'penalty' : ['l1', 'l2'], 'C': [0.01, 0.1, 1, 10, 100]}\n",
    "    search = GridSearchCV(clf, param_grid=params, scoring='recall', cv=3)\n",
    "    search.fit(X_train, y_train)\n",
    "    cv0 = search.cv_results_['split0_test_score']\n",
    "    cv1 = search.cv_results_['split1_test_score']\n",
    "    cv2 = search.cv_results_['split2_test_score']\n",
    "    results = (cv0 + cv1 + cv2) / 3\n",
    "    results = results.reshape(5, 2)\n",
    "\n",
    "    return results\n",
    "\n",
    "answer_six()"
   ]
  },
  {
   "cell_type": "code",
   "execution_count": 70,
   "metadata": {
    "scrolled": false
   },
   "outputs": [
    {
     "name": "stderr",
     "output_type": "stream",
     "text": [
      "/Users/zhujun/anaconda3/lib/python3.6/site-packages/sklearn/linear_model/logistic.py:432: FutureWarning: Default solver will be changed to 'lbfgs' in 0.22. Specify a solver to silence this warning.\n",
      "  FutureWarning)\n",
      "/Users/zhujun/anaconda3/lib/python3.6/site-packages/sklearn/linear_model/logistic.py:432: FutureWarning: Default solver will be changed to 'lbfgs' in 0.22. Specify a solver to silence this warning.\n",
      "  FutureWarning)\n",
      "/Users/zhujun/anaconda3/lib/python3.6/site-packages/sklearn/linear_model/logistic.py:432: FutureWarning: Default solver will be changed to 'lbfgs' in 0.22. Specify a solver to silence this warning.\n",
      "  FutureWarning)\n",
      "/Users/zhujun/anaconda3/lib/python3.6/site-packages/sklearn/linear_model/logistic.py:432: FutureWarning: Default solver will be changed to 'lbfgs' in 0.22. Specify a solver to silence this warning.\n",
      "  FutureWarning)\n",
      "/Users/zhujun/anaconda3/lib/python3.6/site-packages/sklearn/linear_model/logistic.py:432: FutureWarning: Default solver will be changed to 'lbfgs' in 0.22. Specify a solver to silence this warning.\n",
      "  FutureWarning)\n",
      "/Users/zhujun/anaconda3/lib/python3.6/site-packages/sklearn/linear_model/logistic.py:432: FutureWarning: Default solver will be changed to 'lbfgs' in 0.22. Specify a solver to silence this warning.\n",
      "  FutureWarning)\n",
      "/Users/zhujun/anaconda3/lib/python3.6/site-packages/sklearn/linear_model/logistic.py:432: FutureWarning: Default solver will be changed to 'lbfgs' in 0.22. Specify a solver to silence this warning.\n",
      "  FutureWarning)\n",
      "/Users/zhujun/anaconda3/lib/python3.6/site-packages/sklearn/linear_model/logistic.py:432: FutureWarning: Default solver will be changed to 'lbfgs' in 0.22. Specify a solver to silence this warning.\n",
      "  FutureWarning)\n",
      "/Users/zhujun/anaconda3/lib/python3.6/site-packages/sklearn/linear_model/logistic.py:432: FutureWarning: Default solver will be changed to 'lbfgs' in 0.22. Specify a solver to silence this warning.\n",
      "  FutureWarning)\n",
      "/Users/zhujun/anaconda3/lib/python3.6/site-packages/sklearn/linear_model/logistic.py:432: FutureWarning: Default solver will be changed to 'lbfgs' in 0.22. Specify a solver to silence this warning.\n",
      "  FutureWarning)\n",
      "/Users/zhujun/anaconda3/lib/python3.6/site-packages/sklearn/linear_model/logistic.py:432: FutureWarning: Default solver will be changed to 'lbfgs' in 0.22. Specify a solver to silence this warning.\n",
      "  FutureWarning)\n",
      "/Users/zhujun/anaconda3/lib/python3.6/site-packages/sklearn/linear_model/logistic.py:432: FutureWarning: Default solver will be changed to 'lbfgs' in 0.22. Specify a solver to silence this warning.\n",
      "  FutureWarning)\n",
      "/Users/zhujun/anaconda3/lib/python3.6/site-packages/sklearn/linear_model/logistic.py:432: FutureWarning: Default solver will be changed to 'lbfgs' in 0.22. Specify a solver to silence this warning.\n",
      "  FutureWarning)\n",
      "/Users/zhujun/anaconda3/lib/python3.6/site-packages/sklearn/linear_model/logistic.py:432: FutureWarning: Default solver will be changed to 'lbfgs' in 0.22. Specify a solver to silence this warning.\n",
      "  FutureWarning)\n",
      "/Users/zhujun/anaconda3/lib/python3.6/site-packages/sklearn/linear_model/logistic.py:432: FutureWarning: Default solver will be changed to 'lbfgs' in 0.22. Specify a solver to silence this warning.\n",
      "  FutureWarning)\n",
      "/Users/zhujun/anaconda3/lib/python3.6/site-packages/sklearn/linear_model/logistic.py:432: FutureWarning: Default solver will be changed to 'lbfgs' in 0.22. Specify a solver to silence this warning.\n",
      "  FutureWarning)\n",
      "/Users/zhujun/anaconda3/lib/python3.6/site-packages/sklearn/linear_model/logistic.py:432: FutureWarning: Default solver will be changed to 'lbfgs' in 0.22. Specify a solver to silence this warning.\n",
      "  FutureWarning)\n",
      "/Users/zhujun/anaconda3/lib/python3.6/site-packages/sklearn/linear_model/logistic.py:432: FutureWarning: Default solver will be changed to 'lbfgs' in 0.22. Specify a solver to silence this warning.\n",
      "  FutureWarning)\n",
      "/Users/zhujun/anaconda3/lib/python3.6/site-packages/sklearn/linear_model/logistic.py:432: FutureWarning: Default solver will be changed to 'lbfgs' in 0.22. Specify a solver to silence this warning.\n",
      "  FutureWarning)\n",
      "/Users/zhujun/anaconda3/lib/python3.6/site-packages/sklearn/linear_model/logistic.py:432: FutureWarning: Default solver will be changed to 'lbfgs' in 0.22. Specify a solver to silence this warning.\n",
      "  FutureWarning)\n",
      "/Users/zhujun/anaconda3/lib/python3.6/site-packages/sklearn/linear_model/logistic.py:432: FutureWarning: Default solver will be changed to 'lbfgs' in 0.22. Specify a solver to silence this warning.\n",
      "  FutureWarning)\n",
      "/Users/zhujun/anaconda3/lib/python3.6/site-packages/sklearn/linear_model/logistic.py:432: FutureWarning: Default solver will be changed to 'lbfgs' in 0.22. Specify a solver to silence this warning.\n",
      "  FutureWarning)\n",
      "/Users/zhujun/anaconda3/lib/python3.6/site-packages/sklearn/linear_model/logistic.py:432: FutureWarning: Default solver will be changed to 'lbfgs' in 0.22. Specify a solver to silence this warning.\n",
      "  FutureWarning)\n",
      "/Users/zhujun/anaconda3/lib/python3.6/site-packages/sklearn/linear_model/logistic.py:432: FutureWarning: Default solver will be changed to 'lbfgs' in 0.22. Specify a solver to silence this warning.\n",
      "  FutureWarning)\n",
      "/Users/zhujun/anaconda3/lib/python3.6/site-packages/sklearn/linear_model/logistic.py:432: FutureWarning: Default solver will be changed to 'lbfgs' in 0.22. Specify a solver to silence this warning.\n",
      "  FutureWarning)\n",
      "/Users/zhujun/anaconda3/lib/python3.6/site-packages/sklearn/linear_model/logistic.py:432: FutureWarning: Default solver will be changed to 'lbfgs' in 0.22. Specify a solver to silence this warning.\n",
      "  FutureWarning)\n",
      "/Users/zhujun/anaconda3/lib/python3.6/site-packages/sklearn/linear_model/logistic.py:432: FutureWarning: Default solver will be changed to 'lbfgs' in 0.22. Specify a solver to silence this warning.\n",
      "  FutureWarning)\n",
      "/Users/zhujun/anaconda3/lib/python3.6/site-packages/sklearn/linear_model/logistic.py:432: FutureWarning: Default solver will be changed to 'lbfgs' in 0.22. Specify a solver to silence this warning.\n",
      "  FutureWarning)\n",
      "/Users/zhujun/anaconda3/lib/python3.6/site-packages/sklearn/linear_model/logistic.py:432: FutureWarning: Default solver will be changed to 'lbfgs' in 0.22. Specify a solver to silence this warning.\n",
      "  FutureWarning)\n",
      "/Users/zhujun/anaconda3/lib/python3.6/site-packages/sklearn/linear_model/logistic.py:432: FutureWarning: Default solver will be changed to 'lbfgs' in 0.22. Specify a solver to silence this warning.\n",
      "  FutureWarning)\n",
      "/Users/zhujun/anaconda3/lib/python3.6/site-packages/sklearn/linear_model/logistic.py:432: FutureWarning: Default solver will be changed to 'lbfgs' in 0.22. Specify a solver to silence this warning.\n",
      "  FutureWarning)\n"
     ]
    },
    {
     "data": {
      "application/javascript": [
       "/* Put everything inside the global mpl namespace */\n",
       "window.mpl = {};\n",
       "\n",
       "\n",
       "mpl.get_websocket_type = function() {\n",
       "    if (typeof(WebSocket) !== 'undefined') {\n",
       "        return WebSocket;\n",
       "    } else if (typeof(MozWebSocket) !== 'undefined') {\n",
       "        return MozWebSocket;\n",
       "    } else {\n",
       "        alert('Your browser does not have WebSocket support.' +\n",
       "              'Please try Chrome, Safari or Firefox ≥ 6. ' +\n",
       "              'Firefox 4 and 5 are also supported but you ' +\n",
       "              'have to enable WebSockets in about:config.');\n",
       "    };\n",
       "}\n",
       "\n",
       "mpl.figure = function(figure_id, websocket, ondownload, parent_element) {\n",
       "    this.id = figure_id;\n",
       "\n",
       "    this.ws = websocket;\n",
       "\n",
       "    this.supports_binary = (this.ws.binaryType != undefined);\n",
       "\n",
       "    if (!this.supports_binary) {\n",
       "        var warnings = document.getElementById(\"mpl-warnings\");\n",
       "        if (warnings) {\n",
       "            warnings.style.display = 'block';\n",
       "            warnings.textContent = (\n",
       "                \"This browser does not support binary websocket messages. \" +\n",
       "                    \"Performance may be slow.\");\n",
       "        }\n",
       "    }\n",
       "\n",
       "    this.imageObj = new Image();\n",
       "\n",
       "    this.context = undefined;\n",
       "    this.message = undefined;\n",
       "    this.canvas = undefined;\n",
       "    this.rubberband_canvas = undefined;\n",
       "    this.rubberband_context = undefined;\n",
       "    this.format_dropdown = undefined;\n",
       "\n",
       "    this.image_mode = 'full';\n",
       "\n",
       "    this.root = $('<div/>');\n",
       "    this._root_extra_style(this.root)\n",
       "    this.root.attr('style', 'display: inline-block');\n",
       "\n",
       "    $(parent_element).append(this.root);\n",
       "\n",
       "    this._init_header(this);\n",
       "    this._init_canvas(this);\n",
       "    this._init_toolbar(this);\n",
       "\n",
       "    var fig = this;\n",
       "\n",
       "    this.waiting = false;\n",
       "\n",
       "    this.ws.onopen =  function () {\n",
       "            fig.send_message(\"supports_binary\", {value: fig.supports_binary});\n",
       "            fig.send_message(\"send_image_mode\", {});\n",
       "            if (mpl.ratio != 1) {\n",
       "                fig.send_message(\"set_dpi_ratio\", {'dpi_ratio': mpl.ratio});\n",
       "            }\n",
       "            fig.send_message(\"refresh\", {});\n",
       "        }\n",
       "\n",
       "    this.imageObj.onload = function() {\n",
       "            if (fig.image_mode == 'full') {\n",
       "                // Full images could contain transparency (where diff images\n",
       "                // almost always do), so we need to clear the canvas so that\n",
       "                // there is no ghosting.\n",
       "                fig.context.clearRect(0, 0, fig.canvas.width, fig.canvas.height);\n",
       "            }\n",
       "            fig.context.drawImage(fig.imageObj, 0, 0);\n",
       "        };\n",
       "\n",
       "    this.imageObj.onunload = function() {\n",
       "        fig.ws.close();\n",
       "    }\n",
       "\n",
       "    this.ws.onmessage = this._make_on_message_function(this);\n",
       "\n",
       "    this.ondownload = ondownload;\n",
       "}\n",
       "\n",
       "mpl.figure.prototype._init_header = function() {\n",
       "    var titlebar = $(\n",
       "        '<div class=\"ui-dialog-titlebar ui-widget-header ui-corner-all ' +\n",
       "        'ui-helper-clearfix\"/>');\n",
       "    var titletext = $(\n",
       "        '<div class=\"ui-dialog-title\" style=\"width: 100%; ' +\n",
       "        'text-align: center; padding: 3px;\"/>');\n",
       "    titlebar.append(titletext)\n",
       "    this.root.append(titlebar);\n",
       "    this.header = titletext[0];\n",
       "}\n",
       "\n",
       "\n",
       "\n",
       "mpl.figure.prototype._canvas_extra_style = function(canvas_div) {\n",
       "\n",
       "}\n",
       "\n",
       "\n",
       "mpl.figure.prototype._root_extra_style = function(canvas_div) {\n",
       "\n",
       "}\n",
       "\n",
       "mpl.figure.prototype._init_canvas = function() {\n",
       "    var fig = this;\n",
       "\n",
       "    var canvas_div = $('<div/>');\n",
       "\n",
       "    canvas_div.attr('style', 'position: relative; clear: both; outline: 0');\n",
       "\n",
       "    function canvas_keyboard_event(event) {\n",
       "        return fig.key_event(event, event['data']);\n",
       "    }\n",
       "\n",
       "    canvas_div.keydown('key_press', canvas_keyboard_event);\n",
       "    canvas_div.keyup('key_release', canvas_keyboard_event);\n",
       "    this.canvas_div = canvas_div\n",
       "    this._canvas_extra_style(canvas_div)\n",
       "    this.root.append(canvas_div);\n",
       "\n",
       "    var canvas = $('<canvas/>');\n",
       "    canvas.addClass('mpl-canvas');\n",
       "    canvas.attr('style', \"left: 0; top: 0; z-index: 0; outline: 0\")\n",
       "\n",
       "    this.canvas = canvas[0];\n",
       "    this.context = canvas[0].getContext(\"2d\");\n",
       "\n",
       "    var backingStore = this.context.backingStorePixelRatio ||\n",
       "\tthis.context.webkitBackingStorePixelRatio ||\n",
       "\tthis.context.mozBackingStorePixelRatio ||\n",
       "\tthis.context.msBackingStorePixelRatio ||\n",
       "\tthis.context.oBackingStorePixelRatio ||\n",
       "\tthis.context.backingStorePixelRatio || 1;\n",
       "\n",
       "    mpl.ratio = (window.devicePixelRatio || 1) / backingStore;\n",
       "\n",
       "    var rubberband = $('<canvas/>');\n",
       "    rubberband.attr('style', \"position: absolute; left: 0; top: 0; z-index: 1;\")\n",
       "\n",
       "    var pass_mouse_events = true;\n",
       "\n",
       "    canvas_div.resizable({\n",
       "        start: function(event, ui) {\n",
       "            pass_mouse_events = false;\n",
       "        },\n",
       "        resize: function(event, ui) {\n",
       "            fig.request_resize(ui.size.width, ui.size.height);\n",
       "        },\n",
       "        stop: function(event, ui) {\n",
       "            pass_mouse_events = true;\n",
       "            fig.request_resize(ui.size.width, ui.size.height);\n",
       "        },\n",
       "    });\n",
       "\n",
       "    function mouse_event_fn(event) {\n",
       "        if (pass_mouse_events)\n",
       "            return fig.mouse_event(event, event['data']);\n",
       "    }\n",
       "\n",
       "    rubberband.mousedown('button_press', mouse_event_fn);\n",
       "    rubberband.mouseup('button_release', mouse_event_fn);\n",
       "    // Throttle sequential mouse events to 1 every 20ms.\n",
       "    rubberband.mousemove('motion_notify', mouse_event_fn);\n",
       "\n",
       "    rubberband.mouseenter('figure_enter', mouse_event_fn);\n",
       "    rubberband.mouseleave('figure_leave', mouse_event_fn);\n",
       "\n",
       "    canvas_div.on(\"wheel\", function (event) {\n",
       "        event = event.originalEvent;\n",
       "        event['data'] = 'scroll'\n",
       "        if (event.deltaY < 0) {\n",
       "            event.step = 1;\n",
       "        } else {\n",
       "            event.step = -1;\n",
       "        }\n",
       "        mouse_event_fn(event);\n",
       "    });\n",
       "\n",
       "    canvas_div.append(canvas);\n",
       "    canvas_div.append(rubberband);\n",
       "\n",
       "    this.rubberband = rubberband;\n",
       "    this.rubberband_canvas = rubberband[0];\n",
       "    this.rubberband_context = rubberband[0].getContext(\"2d\");\n",
       "    this.rubberband_context.strokeStyle = \"#000000\";\n",
       "\n",
       "    this._resize_canvas = function(width, height) {\n",
       "        // Keep the size of the canvas, canvas container, and rubber band\n",
       "        // canvas in synch.\n",
       "        canvas_div.css('width', width)\n",
       "        canvas_div.css('height', height)\n",
       "\n",
       "        canvas.attr('width', width * mpl.ratio);\n",
       "        canvas.attr('height', height * mpl.ratio);\n",
       "        canvas.attr('style', 'width: ' + width + 'px; height: ' + height + 'px;');\n",
       "\n",
       "        rubberband.attr('width', width);\n",
       "        rubberband.attr('height', height);\n",
       "    }\n",
       "\n",
       "    // Set the figure to an initial 600x600px, this will subsequently be updated\n",
       "    // upon first draw.\n",
       "    this._resize_canvas(600, 600);\n",
       "\n",
       "    // Disable right mouse context menu.\n",
       "    $(this.rubberband_canvas).bind(\"contextmenu\",function(e){\n",
       "        return false;\n",
       "    });\n",
       "\n",
       "    function set_focus () {\n",
       "        canvas.focus();\n",
       "        canvas_div.focus();\n",
       "    }\n",
       "\n",
       "    window.setTimeout(set_focus, 100);\n",
       "}\n",
       "\n",
       "mpl.figure.prototype._init_toolbar = function() {\n",
       "    var fig = this;\n",
       "\n",
       "    var nav_element = $('<div/>')\n",
       "    nav_element.attr('style', 'width: 100%');\n",
       "    this.root.append(nav_element);\n",
       "\n",
       "    // Define a callback function for later on.\n",
       "    function toolbar_event(event) {\n",
       "        return fig.toolbar_button_onclick(event['data']);\n",
       "    }\n",
       "    function toolbar_mouse_event(event) {\n",
       "        return fig.toolbar_button_onmouseover(event['data']);\n",
       "    }\n",
       "\n",
       "    for(var toolbar_ind in mpl.toolbar_items) {\n",
       "        var name = mpl.toolbar_items[toolbar_ind][0];\n",
       "        var tooltip = mpl.toolbar_items[toolbar_ind][1];\n",
       "        var image = mpl.toolbar_items[toolbar_ind][2];\n",
       "        var method_name = mpl.toolbar_items[toolbar_ind][3];\n",
       "\n",
       "        if (!name) {\n",
       "            // put a spacer in here.\n",
       "            continue;\n",
       "        }\n",
       "        var button = $('<button/>');\n",
       "        button.addClass('ui-button ui-widget ui-state-default ui-corner-all ' +\n",
       "                        'ui-button-icon-only');\n",
       "        button.attr('role', 'button');\n",
       "        button.attr('aria-disabled', 'false');\n",
       "        button.click(method_name, toolbar_event);\n",
       "        button.mouseover(tooltip, toolbar_mouse_event);\n",
       "\n",
       "        var icon_img = $('<span/>');\n",
       "        icon_img.addClass('ui-button-icon-primary ui-icon');\n",
       "        icon_img.addClass(image);\n",
       "        icon_img.addClass('ui-corner-all');\n",
       "\n",
       "        var tooltip_span = $('<span/>');\n",
       "        tooltip_span.addClass('ui-button-text');\n",
       "        tooltip_span.html(tooltip);\n",
       "\n",
       "        button.append(icon_img);\n",
       "        button.append(tooltip_span);\n",
       "\n",
       "        nav_element.append(button);\n",
       "    }\n",
       "\n",
       "    var fmt_picker_span = $('<span/>');\n",
       "\n",
       "    var fmt_picker = $('<select/>');\n",
       "    fmt_picker.addClass('mpl-toolbar-option ui-widget ui-widget-content');\n",
       "    fmt_picker_span.append(fmt_picker);\n",
       "    nav_element.append(fmt_picker_span);\n",
       "    this.format_dropdown = fmt_picker[0];\n",
       "\n",
       "    for (var ind in mpl.extensions) {\n",
       "        var fmt = mpl.extensions[ind];\n",
       "        var option = $(\n",
       "            '<option/>', {selected: fmt === mpl.default_extension}).html(fmt);\n",
       "        fmt_picker.append(option)\n",
       "    }\n",
       "\n",
       "    // Add hover states to the ui-buttons\n",
       "    $( \".ui-button\" ).hover(\n",
       "        function() { $(this).addClass(\"ui-state-hover\");},\n",
       "        function() { $(this).removeClass(\"ui-state-hover\");}\n",
       "    );\n",
       "\n",
       "    var status_bar = $('<span class=\"mpl-message\"/>');\n",
       "    nav_element.append(status_bar);\n",
       "    this.message = status_bar[0];\n",
       "}\n",
       "\n",
       "mpl.figure.prototype.request_resize = function(x_pixels, y_pixels) {\n",
       "    // Request matplotlib to resize the figure. Matplotlib will then trigger a resize in the client,\n",
       "    // which will in turn request a refresh of the image.\n",
       "    this.send_message('resize', {'width': x_pixels, 'height': y_pixels});\n",
       "}\n",
       "\n",
       "mpl.figure.prototype.send_message = function(type, properties) {\n",
       "    properties['type'] = type;\n",
       "    properties['figure_id'] = this.id;\n",
       "    this.ws.send(JSON.stringify(properties));\n",
       "}\n",
       "\n",
       "mpl.figure.prototype.send_draw_message = function() {\n",
       "    if (!this.waiting) {\n",
       "        this.waiting = true;\n",
       "        this.ws.send(JSON.stringify({type: \"draw\", figure_id: this.id}));\n",
       "    }\n",
       "}\n",
       "\n",
       "\n",
       "mpl.figure.prototype.handle_save = function(fig, msg) {\n",
       "    var format_dropdown = fig.format_dropdown;\n",
       "    var format = format_dropdown.options[format_dropdown.selectedIndex].value;\n",
       "    fig.ondownload(fig, format);\n",
       "}\n",
       "\n",
       "\n",
       "mpl.figure.prototype.handle_resize = function(fig, msg) {\n",
       "    var size = msg['size'];\n",
       "    if (size[0] != fig.canvas.width || size[1] != fig.canvas.height) {\n",
       "        fig._resize_canvas(size[0], size[1]);\n",
       "        fig.send_message(\"refresh\", {});\n",
       "    };\n",
       "}\n",
       "\n",
       "mpl.figure.prototype.handle_rubberband = function(fig, msg) {\n",
       "    var x0 = msg['x0'] / mpl.ratio;\n",
       "    var y0 = (fig.canvas.height - msg['y0']) / mpl.ratio;\n",
       "    var x1 = msg['x1'] / mpl.ratio;\n",
       "    var y1 = (fig.canvas.height - msg['y1']) / mpl.ratio;\n",
       "    x0 = Math.floor(x0) + 0.5;\n",
       "    y0 = Math.floor(y0) + 0.5;\n",
       "    x1 = Math.floor(x1) + 0.5;\n",
       "    y1 = Math.floor(y1) + 0.5;\n",
       "    var min_x = Math.min(x0, x1);\n",
       "    var min_y = Math.min(y0, y1);\n",
       "    var width = Math.abs(x1 - x0);\n",
       "    var height = Math.abs(y1 - y0);\n",
       "\n",
       "    fig.rubberband_context.clearRect(\n",
       "        0, 0, fig.canvas.width, fig.canvas.height);\n",
       "\n",
       "    fig.rubberband_context.strokeRect(min_x, min_y, width, height);\n",
       "}\n",
       "\n",
       "mpl.figure.prototype.handle_figure_label = function(fig, msg) {\n",
       "    // Updates the figure title.\n",
       "    fig.header.textContent = msg['label'];\n",
       "}\n",
       "\n",
       "mpl.figure.prototype.handle_cursor = function(fig, msg) {\n",
       "    var cursor = msg['cursor'];\n",
       "    switch(cursor)\n",
       "    {\n",
       "    case 0:\n",
       "        cursor = 'pointer';\n",
       "        break;\n",
       "    case 1:\n",
       "        cursor = 'default';\n",
       "        break;\n",
       "    case 2:\n",
       "        cursor = 'crosshair';\n",
       "        break;\n",
       "    case 3:\n",
       "        cursor = 'move';\n",
       "        break;\n",
       "    }\n",
       "    fig.rubberband_canvas.style.cursor = cursor;\n",
       "}\n",
       "\n",
       "mpl.figure.prototype.handle_message = function(fig, msg) {\n",
       "    fig.message.textContent = msg['message'];\n",
       "}\n",
       "\n",
       "mpl.figure.prototype.handle_draw = function(fig, msg) {\n",
       "    // Request the server to send over a new figure.\n",
       "    fig.send_draw_message();\n",
       "}\n",
       "\n",
       "mpl.figure.prototype.handle_image_mode = function(fig, msg) {\n",
       "    fig.image_mode = msg['mode'];\n",
       "}\n",
       "\n",
       "mpl.figure.prototype.updated_canvas_event = function() {\n",
       "    // Called whenever the canvas gets updated.\n",
       "    this.send_message(\"ack\", {});\n",
       "}\n",
       "\n",
       "// A function to construct a web socket function for onmessage handling.\n",
       "// Called in the figure constructor.\n",
       "mpl.figure.prototype._make_on_message_function = function(fig) {\n",
       "    return function socket_on_message(evt) {\n",
       "        if (evt.data instanceof Blob) {\n",
       "            /* FIXME: We get \"Resource interpreted as Image but\n",
       "             * transferred with MIME type text/plain:\" errors on\n",
       "             * Chrome.  But how to set the MIME type?  It doesn't seem\n",
       "             * to be part of the websocket stream */\n",
       "            evt.data.type = \"image/png\";\n",
       "\n",
       "            /* Free the memory for the previous frames */\n",
       "            if (fig.imageObj.src) {\n",
       "                (window.URL || window.webkitURL).revokeObjectURL(\n",
       "                    fig.imageObj.src);\n",
       "            }\n",
       "\n",
       "            fig.imageObj.src = (window.URL || window.webkitURL).createObjectURL(\n",
       "                evt.data);\n",
       "            fig.updated_canvas_event();\n",
       "            fig.waiting = false;\n",
       "            return;\n",
       "        }\n",
       "        else if (typeof evt.data === 'string' && evt.data.slice(0, 21) == \"data:image/png;base64\") {\n",
       "            fig.imageObj.src = evt.data;\n",
       "            fig.updated_canvas_event();\n",
       "            fig.waiting = false;\n",
       "            return;\n",
       "        }\n",
       "\n",
       "        var msg = JSON.parse(evt.data);\n",
       "        var msg_type = msg['type'];\n",
       "\n",
       "        // Call the  \"handle_{type}\" callback, which takes\n",
       "        // the figure and JSON message as its only arguments.\n",
       "        try {\n",
       "            var callback = fig[\"handle_\" + msg_type];\n",
       "        } catch (e) {\n",
       "            console.log(\"No handler for the '\" + msg_type + \"' message type: \", msg);\n",
       "            return;\n",
       "        }\n",
       "\n",
       "        if (callback) {\n",
       "            try {\n",
       "                // console.log(\"Handling '\" + msg_type + \"' message: \", msg);\n",
       "                callback(fig, msg);\n",
       "            } catch (e) {\n",
       "                console.log(\"Exception inside the 'handler_\" + msg_type + \"' callback:\", e, e.stack, msg);\n",
       "            }\n",
       "        }\n",
       "    };\n",
       "}\n",
       "\n",
       "// from http://stackoverflow.com/questions/1114465/getting-mouse-location-in-canvas\n",
       "mpl.findpos = function(e) {\n",
       "    //this section is from http://www.quirksmode.org/js/events_properties.html\n",
       "    var targ;\n",
       "    if (!e)\n",
       "        e = window.event;\n",
       "    if (e.target)\n",
       "        targ = e.target;\n",
       "    else if (e.srcElement)\n",
       "        targ = e.srcElement;\n",
       "    if (targ.nodeType == 3) // defeat Safari bug\n",
       "        targ = targ.parentNode;\n",
       "\n",
       "    // jQuery normalizes the pageX and pageY\n",
       "    // pageX,Y are the mouse positions relative to the document\n",
       "    // offset() returns the position of the element relative to the document\n",
       "    var x = e.pageX - $(targ).offset().left;\n",
       "    var y = e.pageY - $(targ).offset().top;\n",
       "\n",
       "    return {\"x\": x, \"y\": y};\n",
       "};\n",
       "\n",
       "/*\n",
       " * return a copy of an object with only non-object keys\n",
       " * we need this to avoid circular references\n",
       " * http://stackoverflow.com/a/24161582/3208463\n",
       " */\n",
       "function simpleKeys (original) {\n",
       "  return Object.keys(original).reduce(function (obj, key) {\n",
       "    if (typeof original[key] !== 'object')\n",
       "        obj[key] = original[key]\n",
       "    return obj;\n",
       "  }, {});\n",
       "}\n",
       "\n",
       "mpl.figure.prototype.mouse_event = function(event, name) {\n",
       "    var canvas_pos = mpl.findpos(event)\n",
       "\n",
       "    if (name === 'button_press')\n",
       "    {\n",
       "        this.canvas.focus();\n",
       "        this.canvas_div.focus();\n",
       "    }\n",
       "\n",
       "    var x = canvas_pos.x * mpl.ratio;\n",
       "    var y = canvas_pos.y * mpl.ratio;\n",
       "\n",
       "    this.send_message(name, {x: x, y: y, button: event.button,\n",
       "                             step: event.step,\n",
       "                             guiEvent: simpleKeys(event)});\n",
       "\n",
       "    /* This prevents the web browser from automatically changing to\n",
       "     * the text insertion cursor when the button is pressed.  We want\n",
       "     * to control all of the cursor setting manually through the\n",
       "     * 'cursor' event from matplotlib */\n",
       "    event.preventDefault();\n",
       "    return false;\n",
       "}\n",
       "\n",
       "mpl.figure.prototype._key_event_extra = function(event, name) {\n",
       "    // Handle any extra behaviour associated with a key event\n",
       "}\n",
       "\n",
       "mpl.figure.prototype.key_event = function(event, name) {\n",
       "\n",
       "    // Prevent repeat events\n",
       "    if (name == 'key_press')\n",
       "    {\n",
       "        if (event.which === this._key)\n",
       "            return;\n",
       "        else\n",
       "            this._key = event.which;\n",
       "    }\n",
       "    if (name == 'key_release')\n",
       "        this._key = null;\n",
       "\n",
       "    var value = '';\n",
       "    if (event.ctrlKey && event.which != 17)\n",
       "        value += \"ctrl+\";\n",
       "    if (event.altKey && event.which != 18)\n",
       "        value += \"alt+\";\n",
       "    if (event.shiftKey && event.which != 16)\n",
       "        value += \"shift+\";\n",
       "\n",
       "    value += 'k';\n",
       "    value += event.which.toString();\n",
       "\n",
       "    this._key_event_extra(event, name);\n",
       "\n",
       "    this.send_message(name, {key: value,\n",
       "                             guiEvent: simpleKeys(event)});\n",
       "    return false;\n",
       "}\n",
       "\n",
       "mpl.figure.prototype.toolbar_button_onclick = function(name) {\n",
       "    if (name == 'download') {\n",
       "        this.handle_save(this, null);\n",
       "    } else {\n",
       "        this.send_message(\"toolbar_button\", {name: name});\n",
       "    }\n",
       "};\n",
       "\n",
       "mpl.figure.prototype.toolbar_button_onmouseover = function(tooltip) {\n",
       "    this.message.textContent = tooltip;\n",
       "};\n",
       "mpl.toolbar_items = [[\"Home\", \"Reset original view\", \"fa fa-home icon-home\", \"home\"], [\"Back\", \"Back to previous view\", \"fa fa-arrow-left icon-arrow-left\", \"back\"], [\"Forward\", \"Forward to next view\", \"fa fa-arrow-right icon-arrow-right\", \"forward\"], [\"\", \"\", \"\", \"\"], [\"Pan\", \"Pan axes with left mouse, zoom with right\", \"fa fa-arrows icon-move\", \"pan\"], [\"Zoom\", \"Zoom to rectangle\", \"fa fa-square-o icon-check-empty\", \"zoom\"], [\"\", \"\", \"\", \"\"], [\"Download\", \"Download plot\", \"fa fa-floppy-o icon-save\", \"download\"]];\n",
       "\n",
       "mpl.extensions = [\"eps\", \"jpeg\", \"pdf\", \"png\", \"ps\", \"raw\", \"svg\", \"tif\"];\n",
       "\n",
       "mpl.default_extension = \"png\";var comm_websocket_adapter = function(comm) {\n",
       "    // Create a \"websocket\"-like object which calls the given IPython comm\n",
       "    // object with the appropriate methods. Currently this is a non binary\n",
       "    // socket, so there is still some room for performance tuning.\n",
       "    var ws = {};\n",
       "\n",
       "    ws.close = function() {\n",
       "        comm.close()\n",
       "    };\n",
       "    ws.send = function(m) {\n",
       "        //console.log('sending', m);\n",
       "        comm.send(m);\n",
       "    };\n",
       "    // Register the callback with on_msg.\n",
       "    comm.on_msg(function(msg) {\n",
       "        //console.log('receiving', msg['content']['data'], msg);\n",
       "        // Pass the mpl event to the overridden (by mpl) onmessage function.\n",
       "        ws.onmessage(msg['content']['data'])\n",
       "    });\n",
       "    return ws;\n",
       "}\n",
       "\n",
       "mpl.mpl_figure_comm = function(comm, msg) {\n",
       "    // This is the function which gets called when the mpl process\n",
       "    // starts-up an IPython Comm through the \"matplotlib\" channel.\n",
       "\n",
       "    var id = msg.content.data.id;\n",
       "    // Get hold of the div created by the display call when the Comm\n",
       "    // socket was opened in Python.\n",
       "    var element = $(\"#\" + id);\n",
       "    var ws_proxy = comm_websocket_adapter(comm)\n",
       "\n",
       "    function ondownload(figure, format) {\n",
       "        window.open(figure.imageObj.src);\n",
       "    }\n",
       "\n",
       "    var fig = new mpl.figure(id, ws_proxy,\n",
       "                           ondownload,\n",
       "                           element.get(0));\n",
       "\n",
       "    // Call onopen now - mpl needs it, as it is assuming we've passed it a real\n",
       "    // web socket which is closed, not our websocket->open comm proxy.\n",
       "    ws_proxy.onopen();\n",
       "\n",
       "    fig.parent_element = element.get(0);\n",
       "    fig.cell_info = mpl.find_output_cell(\"<div id='\" + id + \"'></div>\");\n",
       "    if (!fig.cell_info) {\n",
       "        console.error(\"Failed to find cell for figure\", id, fig);\n",
       "        return;\n",
       "    }\n",
       "\n",
       "    var output_index = fig.cell_info[2]\n",
       "    var cell = fig.cell_info[0];\n",
       "\n",
       "};\n",
       "\n",
       "mpl.figure.prototype.handle_close = function(fig, msg) {\n",
       "    var width = fig.canvas.width/mpl.ratio\n",
       "    fig.root.unbind('remove')\n",
       "\n",
       "    // Update the output cell to use the data from the current canvas.\n",
       "    fig.push_to_output();\n",
       "    var dataURL = fig.canvas.toDataURL();\n",
       "    // Re-enable the keyboard manager in IPython - without this line, in FF,\n",
       "    // the notebook keyboard shortcuts fail.\n",
       "    IPython.keyboard_manager.enable()\n",
       "    $(fig.parent_element).html('<img src=\"' + dataURL + '\" width=\"' + width + '\">');\n",
       "    fig.close_ws(fig, msg);\n",
       "}\n",
       "\n",
       "mpl.figure.prototype.close_ws = function(fig, msg){\n",
       "    fig.send_message('closing', msg);\n",
       "    // fig.ws.close()\n",
       "}\n",
       "\n",
       "mpl.figure.prototype.push_to_output = function(remove_interactive) {\n",
       "    // Turn the data on the canvas into data in the output cell.\n",
       "    var width = this.canvas.width/mpl.ratio\n",
       "    var dataURL = this.canvas.toDataURL();\n",
       "    this.cell_info[1]['text/html'] = '<img src=\"' + dataURL + '\" width=\"' + width + '\">';\n",
       "}\n",
       "\n",
       "mpl.figure.prototype.updated_canvas_event = function() {\n",
       "    // Tell IPython that the notebook contents must change.\n",
       "    IPython.notebook.set_dirty(true);\n",
       "    this.send_message(\"ack\", {});\n",
       "    var fig = this;\n",
       "    // Wait a second, then push the new image to the DOM so\n",
       "    // that it is saved nicely (might be nice to debounce this).\n",
       "    setTimeout(function () { fig.push_to_output() }, 1000);\n",
       "}\n",
       "\n",
       "mpl.figure.prototype._init_toolbar = function() {\n",
       "    var fig = this;\n",
       "\n",
       "    var nav_element = $('<div/>')\n",
       "    nav_element.attr('style', 'width: 100%');\n",
       "    this.root.append(nav_element);\n",
       "\n",
       "    // Define a callback function for later on.\n",
       "    function toolbar_event(event) {\n",
       "        return fig.toolbar_button_onclick(event['data']);\n",
       "    }\n",
       "    function toolbar_mouse_event(event) {\n",
       "        return fig.toolbar_button_onmouseover(event['data']);\n",
       "    }\n",
       "\n",
       "    for(var toolbar_ind in mpl.toolbar_items){\n",
       "        var name = mpl.toolbar_items[toolbar_ind][0];\n",
       "        var tooltip = mpl.toolbar_items[toolbar_ind][1];\n",
       "        var image = mpl.toolbar_items[toolbar_ind][2];\n",
       "        var method_name = mpl.toolbar_items[toolbar_ind][3];\n",
       "\n",
       "        if (!name) { continue; };\n",
       "\n",
       "        var button = $('<button class=\"btn btn-default\" href=\"#\" title=\"' + name + '\"><i class=\"fa ' + image + ' fa-lg\"></i></button>');\n",
       "        button.click(method_name, toolbar_event);\n",
       "        button.mouseover(tooltip, toolbar_mouse_event);\n",
       "        nav_element.append(button);\n",
       "    }\n",
       "\n",
       "    // Add the status bar.\n",
       "    var status_bar = $('<span class=\"mpl-message\" style=\"text-align:right; float: right;\"/>');\n",
       "    nav_element.append(status_bar);\n",
       "    this.message = status_bar[0];\n",
       "\n",
       "    // Add the close button to the window.\n",
       "    var buttongrp = $('<div class=\"btn-group inline pull-right\"></div>');\n",
       "    var button = $('<button class=\"btn btn-mini btn-primary\" href=\"#\" title=\"Stop Interaction\"><i class=\"fa fa-power-off icon-remove icon-large\"></i></button>');\n",
       "    button.click(function (evt) { fig.handle_close(fig, {}); } );\n",
       "    button.mouseover('Stop Interaction', toolbar_mouse_event);\n",
       "    buttongrp.append(button);\n",
       "    var titlebar = this.root.find($('.ui-dialog-titlebar'));\n",
       "    titlebar.prepend(buttongrp);\n",
       "}\n",
       "\n",
       "mpl.figure.prototype._root_extra_style = function(el){\n",
       "    var fig = this\n",
       "    el.on(\"remove\", function(){\n",
       "\tfig.close_ws(fig, {});\n",
       "    });\n",
       "}\n",
       "\n",
       "mpl.figure.prototype._canvas_extra_style = function(el){\n",
       "    // this is important to make the div 'focusable\n",
       "    el.attr('tabindex', 0)\n",
       "    // reach out to IPython and tell the keyboard manager to turn it's self\n",
       "    // off when our div gets focus\n",
       "\n",
       "    // location in version 3\n",
       "    if (IPython.notebook.keyboard_manager) {\n",
       "        IPython.notebook.keyboard_manager.register_events(el);\n",
       "    }\n",
       "    else {\n",
       "        // location in version 2\n",
       "        IPython.keyboard_manager.register_events(el);\n",
       "    }\n",
       "\n",
       "}\n",
       "\n",
       "mpl.figure.prototype._key_event_extra = function(event, name) {\n",
       "    var manager = IPython.notebook.keyboard_manager;\n",
       "    if (!manager)\n",
       "        manager = IPython.keyboard_manager;\n",
       "\n",
       "    // Check for shift+enter\n",
       "    if (event.shiftKey && event.which == 13) {\n",
       "        this.canvas_div.blur();\n",
       "        event.shiftKey = false;\n",
       "        // Send a \"J\" for go to next cell\n",
       "        event.which = 74;\n",
       "        event.keyCode = 74;\n",
       "        manager.command_mode();\n",
       "        manager.handle_keydown(event);\n",
       "    }\n",
       "}\n",
       "\n",
       "mpl.figure.prototype.handle_save = function(fig, msg) {\n",
       "    fig.ondownload(fig, null);\n",
       "}\n",
       "\n",
       "\n",
       "mpl.find_output_cell = function(html_output) {\n",
       "    // Return the cell and output element which can be found *uniquely* in the notebook.\n",
       "    // Note - this is a bit hacky, but it is done because the \"notebook_saving.Notebook\"\n",
       "    // IPython event is triggered only after the cells have been serialised, which for\n",
       "    // our purposes (turning an active figure into a static one), is too late.\n",
       "    var cells = IPython.notebook.get_cells();\n",
       "    var ncells = cells.length;\n",
       "    for (var i=0; i<ncells; i++) {\n",
       "        var cell = cells[i];\n",
       "        if (cell.cell_type === 'code'){\n",
       "            for (var j=0; j<cell.output_area.outputs.length; j++) {\n",
       "                var data = cell.output_area.outputs[j];\n",
       "                if (data.data) {\n",
       "                    // IPython >= 3 moved mimebundle to data attribute of output\n",
       "                    data = data.data;\n",
       "                }\n",
       "                if (data['text/html'] == html_output) {\n",
       "                    return [cell, data, j];\n",
       "                }\n",
       "            }\n",
       "        }\n",
       "    }\n",
       "}\n",
       "\n",
       "// Register the function which deals with the matplotlib target/channel.\n",
       "// The kernel may be null if the page has been refreshed.\n",
       "if (IPython.notebook.kernel != null) {\n",
       "    IPython.notebook.kernel.comm_manager.register_target('matplotlib', mpl.mpl_figure_comm);\n",
       "}\n"
      ],
      "text/plain": [
       "<IPython.core.display.Javascript object>"
      ]
     },
     "metadata": {},
     "output_type": "display_data"
    },
    {
     "data": {
      "text/html": [
       "<img src=\"data:image/png;base64,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\" width=\"640\">"
      ],
      "text/plain": [
       "<IPython.core.display.HTML object>"
      ]
     },
     "metadata": {},
     "output_type": "display_data"
    }
   ],
   "source": [
    "# Use the following function to help visualize results from the grid search\n",
    "def GridSearch_Heatmap(scores):\n",
    "    %matplotlib notebook\n",
    "    import seaborn as sns\n",
    "    import matplotlib.pyplot as plt\n",
    "    plt.figure()\n",
    "    sns.heatmap(scores.reshape(5,2), xticklabels=['l1','l2'], yticklabels=[0.01, 0.1, 1, 10, 100])\n",
    "    plt.yticks(rotation=0);\n",
    "\n",
    "GridSearch_Heatmap(answer_six())"
   ]
  },
  {
   "cell_type": "code",
   "execution_count": 2,
   "metadata": {},
   "outputs": [
    {
     "data": {
      "text/html": [
       "<div>\n",
       "<style scoped>\n",
       "    .dataframe tbody tr th:only-of-type {\n",
       "        vertical-align: middle;\n",
       "    }\n",
       "\n",
       "    .dataframe tbody tr th {\n",
       "        vertical-align: top;\n",
       "    }\n",
       "\n",
       "    .dataframe thead th {\n",
       "        text-align: right;\n",
       "    }\n",
       "</style>\n",
       "<table border=\"1\" class=\"dataframe\">\n",
       "  <thead>\n",
       "    <tr style=\"text-align: right;\">\n",
       "      <th></th>\n",
       "      <th>V1</th>\n",
       "      <th>V2</th>\n",
       "      <th>V3</th>\n",
       "      <th>V4</th>\n",
       "      <th>V5</th>\n",
       "      <th>V6</th>\n",
       "      <th>V7</th>\n",
       "      <th>V8</th>\n",
       "      <th>V9</th>\n",
       "      <th>V10</th>\n",
       "      <th>...</th>\n",
       "      <th>V21</th>\n",
       "      <th>V22</th>\n",
       "      <th>V23</th>\n",
       "      <th>V24</th>\n",
       "      <th>V25</th>\n",
       "      <th>V26</th>\n",
       "      <th>V27</th>\n",
       "      <th>V28</th>\n",
       "      <th>Amount</th>\n",
       "      <th>Class</th>\n",
       "    </tr>\n",
       "  </thead>\n",
       "  <tbody>\n",
       "    <tr>\n",
       "      <th>0</th>\n",
       "      <td>1.176563</td>\n",
       "      <td>0.323798</td>\n",
       "      <td>0.536927</td>\n",
       "      <td>1.047002</td>\n",
       "      <td>-0.368652</td>\n",
       "      <td>-0.728586</td>\n",
       "      <td>0.084678</td>\n",
       "      <td>-0.069246</td>\n",
       "      <td>-0.266389</td>\n",
       "      <td>0.155315</td>\n",
       "      <td>...</td>\n",
       "      <td>-0.109627</td>\n",
       "      <td>-0.341365</td>\n",
       "      <td>0.057845</td>\n",
       "      <td>0.499180</td>\n",
       "      <td>0.415211</td>\n",
       "      <td>-0.581949</td>\n",
       "      <td>0.015472</td>\n",
       "      <td>0.018065</td>\n",
       "      <td>4.67</td>\n",
       "      <td>0</td>\n",
       "    </tr>\n",
       "    <tr>\n",
       "      <th>1</th>\n",
       "      <td>0.681109</td>\n",
       "      <td>-3.934776</td>\n",
       "      <td>-3.801827</td>\n",
       "      <td>-1.147468</td>\n",
       "      <td>-0.735540</td>\n",
       "      <td>-0.501097</td>\n",
       "      <td>1.038865</td>\n",
       "      <td>-0.626979</td>\n",
       "      <td>-2.274423</td>\n",
       "      <td>1.527782</td>\n",
       "      <td>...</td>\n",
       "      <td>0.652202</td>\n",
       "      <td>0.272684</td>\n",
       "      <td>-0.982151</td>\n",
       "      <td>0.165900</td>\n",
       "      <td>0.360251</td>\n",
       "      <td>0.195321</td>\n",
       "      <td>-0.256273</td>\n",
       "      <td>0.056501</td>\n",
       "      <td>912.00</td>\n",
       "      <td>0</td>\n",
       "    </tr>\n",
       "    <tr>\n",
       "      <th>2</th>\n",
       "      <td>1.140729</td>\n",
       "      <td>0.453484</td>\n",
       "      <td>0.247010</td>\n",
       "      <td>2.383132</td>\n",
       "      <td>0.343287</td>\n",
       "      <td>0.432804</td>\n",
       "      <td>0.093380</td>\n",
       "      <td>0.173310</td>\n",
       "      <td>-0.808999</td>\n",
       "      <td>0.775436</td>\n",
       "      <td>...</td>\n",
       "      <td>-0.003802</td>\n",
       "      <td>0.058556</td>\n",
       "      <td>-0.121177</td>\n",
       "      <td>-0.304215</td>\n",
       "      <td>0.645893</td>\n",
       "      <td>0.122600</td>\n",
       "      <td>-0.012115</td>\n",
       "      <td>-0.005945</td>\n",
       "      <td>1.00</td>\n",
       "      <td>0</td>\n",
       "    </tr>\n",
       "    <tr>\n",
       "      <th>3</th>\n",
       "      <td>-1.107073</td>\n",
       "      <td>-3.298902</td>\n",
       "      <td>-0.184092</td>\n",
       "      <td>-1.795744</td>\n",
       "      <td>2.137564</td>\n",
       "      <td>-1.684992</td>\n",
       "      <td>-2.015606</td>\n",
       "      <td>-0.007181</td>\n",
       "      <td>-0.165760</td>\n",
       "      <td>0.869659</td>\n",
       "      <td>...</td>\n",
       "      <td>0.130648</td>\n",
       "      <td>0.329445</td>\n",
       "      <td>0.927656</td>\n",
       "      <td>-0.049560</td>\n",
       "      <td>-1.892866</td>\n",
       "      <td>-0.575431</td>\n",
       "      <td>0.266573</td>\n",
       "      <td>0.414184</td>\n",
       "      <td>62.10</td>\n",
       "      <td>0</td>\n",
       "    </tr>\n",
       "    <tr>\n",
       "      <th>4</th>\n",
       "      <td>-0.314818</td>\n",
       "      <td>0.866839</td>\n",
       "      <td>-0.124577</td>\n",
       "      <td>-0.627638</td>\n",
       "      <td>2.651762</td>\n",
       "      <td>3.428128</td>\n",
       "      <td>0.194637</td>\n",
       "      <td>0.670674</td>\n",
       "      <td>-0.442658</td>\n",
       "      <td>0.133499</td>\n",
       "      <td>...</td>\n",
       "      <td>-0.312774</td>\n",
       "      <td>-0.799494</td>\n",
       "      <td>-0.064488</td>\n",
       "      <td>0.953062</td>\n",
       "      <td>-0.429550</td>\n",
       "      <td>0.158225</td>\n",
       "      <td>0.076943</td>\n",
       "      <td>-0.015051</td>\n",
       "      <td>2.67</td>\n",
       "      <td>0</td>\n",
       "    </tr>\n",
       "  </tbody>\n",
       "</table>\n",
       "<p>5 rows × 30 columns</p>\n",
       "</div>"
      ],
      "text/plain": [
       "         V1        V2        V3        V4        V5        V6        V7  \\\n",
       "0  1.176563  0.323798  0.536927  1.047002 -0.368652 -0.728586  0.084678   \n",
       "1  0.681109 -3.934776 -3.801827 -1.147468 -0.735540 -0.501097  1.038865   \n",
       "2  1.140729  0.453484  0.247010  2.383132  0.343287  0.432804  0.093380   \n",
       "3 -1.107073 -3.298902 -0.184092 -1.795744  2.137564 -1.684992 -2.015606   \n",
       "4 -0.314818  0.866839 -0.124577 -0.627638  2.651762  3.428128  0.194637   \n",
       "\n",
       "         V8        V9       V10  ...         V21       V22       V23  \\\n",
       "0 -0.069246 -0.266389  0.155315  ...   -0.109627 -0.341365  0.057845   \n",
       "1 -0.626979 -2.274423  1.527782  ...    0.652202  0.272684 -0.982151   \n",
       "2  0.173310 -0.808999  0.775436  ...   -0.003802  0.058556 -0.121177   \n",
       "3 -0.007181 -0.165760  0.869659  ...    0.130648  0.329445  0.927656   \n",
       "4  0.670674 -0.442658  0.133499  ...   -0.312774 -0.799494 -0.064488   \n",
       "\n",
       "        V24       V25       V26       V27       V28  Amount  Class  \n",
       "0  0.499180  0.415211 -0.581949  0.015472  0.018065    4.67      0  \n",
       "1  0.165900  0.360251  0.195321 -0.256273  0.056501  912.00      0  \n",
       "2 -0.304215  0.645893  0.122600 -0.012115 -0.005945    1.00      0  \n",
       "3 -0.049560 -1.892866 -0.575431  0.266573  0.414184   62.10      0  \n",
       "4  0.953062 -0.429550  0.158225  0.076943 -0.015051    2.67      0  \n",
       "\n",
       "[5 rows x 30 columns]"
      ]
     },
     "execution_count": 2,
     "metadata": {},
     "output_type": "execute_result"
    }
   ],
   "source": [
    "dataset = pd.read_csv('fraud_data.csv')\n",
    "dataset.head()"
   ]
  },
  {
   "cell_type": "code",
   "execution_count": 4,
   "metadata": {},
   "outputs": [
    {
     "data": {
      "text/plain": [
       "array([0, 1])"
      ]
     },
     "execution_count": 4,
     "metadata": {},
     "output_type": "execute_result"
    }
   ],
   "source": [
    "dataset['Class'].unique()"
   ]
  },
  {
   "cell_type": "code",
   "execution_count": 5,
   "metadata": {},
   "outputs": [
    {
     "data": {
      "text/plain": [
       "21693"
      ]
     },
     "execution_count": 5,
     "metadata": {},
     "output_type": "execute_result"
    }
   ],
   "source": [
    "dataset['Class'].count()"
   ]
  },
  {
   "cell_type": "code",
   "execution_count": 9,
   "metadata": {},
   "outputs": [
    {
     "data": {
      "text/plain": [
       "21693"
      ]
     },
     "execution_count": 9,
     "metadata": {},
     "output_type": "execute_result"
    }
   ],
   "source": [
    "dataset.shape[0]"
   ]
  },
  {
   "cell_type": "code",
   "execution_count": 6,
   "metadata": {},
   "outputs": [
    {
     "data": {
      "text/plain": [
       "<pandas.core.groupby.groupby.DataFrameGroupBy object at 0x11d9c19e8>"
      ]
     },
     "execution_count": 6,
     "metadata": {},
     "output_type": "execute_result"
    }
   ],
   "source": [
    "dataset.groupby(['Class'])"
   ]
  },
  {
   "cell_type": "code",
   "execution_count": 7,
   "metadata": {},
   "outputs": [
    {
     "data": {
      "text/plain": [
       "356"
      ]
     },
     "execution_count": 7,
     "metadata": {},
     "output_type": "execute_result"
    }
   ],
   "source": [
    "dataset['Class'].sum()"
   ]
  },
  {
   "cell_type": "code",
   "execution_count": 8,
   "metadata": {},
   "outputs": [
    {
     "data": {
      "text/plain": [
       "0.016410823768035772"
      ]
     },
     "execution_count": 8,
     "metadata": {},
     "output_type": "execute_result"
    }
   ],
   "source": [
    "dataset['Class'].sum() / dataset.shape[0]"
   ]
  },
  {
   "cell_type": "code",
   "execution_count": 13,
   "metadata": {},
   "outputs": [
    {
     "data": {
      "text/plain": [
       "(0.9852507374631269, 0.0)"
      ]
     },
     "execution_count": 13,
     "metadata": {},
     "output_type": "execute_result"
    }
   ],
   "source": [
    "from sklearn.dummy import DummyClassifier\n",
    "from sklearn.metrics import recall_score\n",
    "\n",
    "clf1 = DummyClassifier(strategy='most_frequent')\n",
    "clf1.fit(X_train, y_train)\n",
    "y_pred = clf1.predict(X_test)\n",
    "acc1 = clf1.score(X_test, y_test)\n",
    "recall1 = recall_score(y_test, y_pred)\n",
    "ans = (acc1, recall1)\n",
    "ans"
   ]
  },
  {
   "cell_type": "code",
   "execution_count": 21,
   "metadata": {},
   "outputs": [
    {
     "name": "stderr",
     "output_type": "stream",
     "text": [
      "/Users/zhujun/anaconda3/lib/python3.6/site-packages/sklearn/svm/base.py:196: FutureWarning: The default value of gamma will change from 'auto' to 'scale' in version 0.22 to account better for unscaled features. Set gamma explicitly to 'auto' or 'scale' to avoid this warning.\n",
      "  \"avoid this warning.\", FutureWarning)\n"
     ]
    },
    {
     "data": {
      "text/plain": [
       "(0.9907817109144543, 0.375, 1.0)"
      ]
     },
     "execution_count": 21,
     "metadata": {},
     "output_type": "execute_result"
    }
   ],
   "source": [
    "from sklearn.metrics import recall_score, precision_score\n",
    "from sklearn.svm import SVC\n",
    "\n",
    "clf_svc = SVC()\n",
    "clf_svc.fit(X_train, y_train)\n",
    "y_pred = clf_svc.predict(X_test)\n",
    "acc = clf_svc.score(X_test, y_test)\n",
    "precision = precision_score(y_test, y_pred)\n",
    "recall = recall_score(y_test, y_pred)\n",
    "ans = (acc, recall, precision)\n",
    "ans"
   ]
  },
  {
   "cell_type": "code",
   "execution_count": 34,
   "metadata": {},
   "outputs": [
    {
     "data": {
      "text/plain": [
       "array([False, False, False, ..., False, False, False])"
      ]
     },
     "execution_count": 34,
     "metadata": {},
     "output_type": "execute_result"
    }
   ],
   "source": [
    "from sklearn.metrics import confusion_matrix\n",
    "from sklearn.svm import SVC\n",
    "\n",
    "clf = SVC(C=1e9, gamma=1e-07)\n",
    "clf.fit(X_train, y_train)\n",
    "y_pred = clf.decision_function(X_test) > -220\n",
    "y_pred"
   ]
  },
  {
   "cell_type": "code",
   "execution_count": 24,
   "metadata": {},
   "outputs": [
    {
     "data": {
      "text/plain": [
       "(5424,)"
      ]
     },
     "execution_count": 24,
     "metadata": {},
     "output_type": "execute_result"
    }
   ],
   "source": [
    "y_pred.shape"
   ]
  },
  {
   "cell_type": "code",
   "execution_count": 28,
   "metadata": {},
   "outputs": [
    {
     "data": {
      "text/plain": [
       "array([0., 0., 0., ..., 0., 0., 0.])"
      ]
     },
     "execution_count": 28,
     "metadata": {},
     "output_type": "execute_result"
    }
   ],
   "source": [
    "y_pred = y_pred.astype('float')\n",
    "y_pred"
   ]
  },
  {
   "cell_type": "code",
   "execution_count": 35,
   "metadata": {},
   "outputs": [
    {
     "data": {
      "text/plain": [
       "array([[5320,   24],\n",
       "       [  14,   66]])"
      ]
     },
     "execution_count": 35,
     "metadata": {},
     "output_type": "execute_result"
    }
   ],
   "source": [
    "confusion_matrix(y_test, y_pred)"
   ]
  },
  {
   "cell_type": "code",
   "execution_count": 44,
   "metadata": {},
   "outputs": [
    {
     "name": "stderr",
     "output_type": "stream",
     "text": [
      "/Users/zhujun/anaconda3/lib/python3.6/site-packages/sklearn/linear_model/logistic.py:432: FutureWarning: Default solver will be changed to 'lbfgs' in 0.22. Specify a solver to silence this warning.\n",
      "  FutureWarning)\n"
     ]
    },
    {
     "data": {
      "text/plain": [
       "array([[9.98749097e-01, 1.25090283e-03],\n",
       "       [9.98542158e-01, 1.45784166e-03],\n",
       "       [9.97504685e-01, 2.49531471e-03],\n",
       "       ...,\n",
       "       [9.97862533e-01, 2.13746681e-03],\n",
       "       [9.99587070e-01, 4.12929717e-04],\n",
       "       [9.98022345e-01, 1.97765543e-03]])"
      ]
     },
     "execution_count": 44,
     "metadata": {},
     "output_type": "execute_result"
    }
   ],
   "source": [
    "from sklearn.linear_model import LogisticRegression\n",
    "from sklearn.metrics import precision_recall_curve, roc_curve\n",
    "\n",
    "clf = LogisticRegression()\n",
    "clf.fit(X_train, y_train)\n",
    "y_prob = clf.predict_proba(X_test)\n",
    "y_prob"
   ]
  },
  {
   "cell_type": "code",
   "execution_count": 45,
   "metadata": {},
   "outputs": [
    {
     "data": {
      "text/plain": [
       "array([-6.68263804, -6.52933935, -5.99084199, -7.62891215, -9.1787503 ])"
      ]
     },
     "execution_count": 45,
     "metadata": {},
     "output_type": "execute_result"
    }
   ],
   "source": [
    "y_decision = clf.decision_function(X_test)\n",
    "y_decision[:5]"
   ]
  },
  {
   "cell_type": "code",
   "execution_count": 50,
   "metadata": {},
   "outputs": [
    {
     "data": {
      "image/png": "[encoded data removed]",
      "text/plain": [
       "<Figure size 432x288 with 1 Axes>"
      ]
     },
     "metadata": {
      "needs_background": "light"
     },
     "output_type": "display_data"
    }
   ],
   "source": [
    "import matplotlib.pyplot as plt\n",
    "\n",
    "precision, recall, threshold = precision_recall_curve(y_test, y_prob[:, 1])\n",
    "plt.plot(precision, recall, label='PR curve')\n",
    "plt.xlabel('precision')\n",
    "plt.ylabel('recall')\n",
    "plt.show()"
   ]
  },
  {
   "cell_type": "code",
   "execution_count": 54,
   "metadata": {},
   "outputs": [
    {
     "data": {
      "text/plain": [
       "3164"
      ]
     },
     "execution_count": 54,
     "metadata": {},
     "output_type": "execute_result"
    }
   ],
   "source": [
    "index = np.argmin(np.abs(precision - 0.75))\n",
    "index"
   ]
  },
  {
   "cell_type": "code",
   "execution_count": 55,
   "metadata": {},
   "outputs": [
    {
     "data": {
      "text/plain": [
       "0.75"
      ]
     },
     "execution_count": 55,
     "metadata": {},
     "output_type": "execute_result"
    }
   ],
   "source": [
    "precision[index]"
   ]
  },
  {
   "cell_type": "code",
   "execution_count": 56,
   "metadata": {},
   "outputs": [
    {
     "data": {
      "text/plain": [
       "0.825"
      ]
     },
     "execution_count": 56,
     "metadata": {},
     "output_type": "execute_result"
    }
   ],
   "source": [
    "recall[index]"
   ]
  },
  {
   "cell_type": "code",
   "execution_count": 57,
   "metadata": {},
   "outputs": [
    {
     "data": {
      "image/png": "[encoded data removed]",
      "text/plain": [
       "<Figure size 432x288 with 1 Axes>"
      ]
     },
     "metadata": {
      "needs_background": "light"
     },
     "output_type": "display_data"
    }
   ],
   "source": [
    "fpr, tpr, threshold = roc_curve(y_test, y_prob[:, 1])\n",
    "plt.plot(fpr, tpr, label='ROC curve')\n",
    "plt.xlabel('false positive rate')\n",
    "plt.ylabel('true positive rate')\n",
    "plt.title('ROC Curve')\n",
    "plt.show()"
   ]
  },
  {
   "cell_type": "code",
   "execution_count": 58,
   "metadata": {},
   "outputs": [
    {
     "data": {
      "text/plain": [
       "array([0.00000000e+00, 0.00000000e+00, 0.00000000e+00, 1.87125749e-04,\n",
       "       1.87125749e-04, 3.74251497e-04, 3.74251497e-04, 5.61377246e-04,\n",
       "       5.61377246e-04, 5.23952096e-03, 5.23952096e-03, 1.47829341e-02,\n",
       "       1.47829341e-02, 2.69461078e-02, 2.69461078e-02, 4.26646707e-02,\n",
       "       4.26646707e-02, 6.17514970e-02, 6.17514970e-02, 7.52245509e-02,\n",
       "       7.52245509e-02, 1.23315868e-01, 1.23315868e-01, 1.37911677e-01,\n",
       "       1.37911677e-01, 1.48577844e-01, 1.48577844e-01, 1.59618263e-01,\n",
       "       1.59618263e-01, 2.04715569e-01, 2.05276946e-01, 2.16878743e-01,\n",
       "       2.17252994e-01, 2.31287425e-01, 2.31287425e-01, 2.37836826e-01,\n",
       "       2.37836826e-01, 2.68899701e-01, 2.69273952e-01, 4.74738024e-01,\n",
       "       4.75112275e-01, 5.75598802e-01, 5.75598802e-01, 5.94498503e-01,\n",
       "       5.94498503e-01, 6.83757485e-01, 6.84131737e-01, 8.69011976e-01,\n",
       "       8.69386228e-01, 1.00000000e+00])"
      ]
     },
     "execution_count": 58,
     "metadata": {},
     "output_type": "execute_result"
    }
   ],
   "source": [
    "fpr"
   ]
  },
  {
   "cell_type": "code",
   "execution_count": 59,
   "metadata": {},
   "outputs": [
    {
     "data": {
      "text/plain": [
       "array([0.    , 0.0125, 0.175 , 0.175 , 0.3375, 0.3375, 0.8125, 0.8125,\n",
       "       0.825 , 0.825 , 0.8375, 0.8375, 0.85  , 0.85  , 0.8625, 0.8625,\n",
       "       0.875 , 0.875 , 0.8875, 0.8875, 0.9   , 0.9   , 0.9125, 0.9125,\n",
       "       0.925 , 0.925 , 0.9375, 0.9375, 0.95  , 0.95  , 0.95  , 0.95  ,\n",
       "       0.95  , 0.95  , 0.9625, 0.9625, 0.975 , 0.975 , 0.975 , 0.975 ,\n",
       "       0.975 , 0.975 , 0.9875, 0.9875, 1.    , 1.    , 1.    , 1.    ,\n",
       "       1.    , 1.    ])"
      ]
     },
     "execution_count": 59,
     "metadata": {},
     "output_type": "execute_result"
    }
   ],
   "source": [
    "tpr"
   ]
  },
  {
   "cell_type": "code",
   "execution_count": 60,
   "metadata": {},
   "outputs": [
    {
     "data": {
      "text/plain": [
       "27"
      ]
     },
     "execution_count": 60,
     "metadata": {},
     "output_type": "execute_result"
    }
   ],
   "source": [
    "index2 = np.argmin(np.abs(fpr - 0.16))\n",
    "index2"
   ]
  },
  {
   "cell_type": "code",
   "execution_count": 61,
   "metadata": {},
   "outputs": [
    {
     "data": {
      "text/plain": [
       "0.15961826347305388"
      ]
     },
     "execution_count": 61,
     "metadata": {},
     "output_type": "execute_result"
    }
   ],
   "source": [
    "fpr[index2]"
   ]
  },
  {
   "cell_type": "code",
   "execution_count": 62,
   "metadata": {},
   "outputs": [
    {
     "data": {
      "text/plain": [
       "0.9375"
      ]
     },
     "execution_count": 62,
     "metadata": {},
     "output_type": "execute_result"
    }
   ],
   "source": [
    "tpr[index2]"
   ]
  },
  {
   "cell_type": "code",
   "execution_count": 64,
   "metadata": {},
   "outputs": [
    {
     "name": "stderr",
     "output_type": "stream",
     "text": [
      "/Users/zhujun/anaconda3/lib/python3.6/site-packages/sklearn/linear_model/logistic.py:432: FutureWarning: Default solver will be changed to 'lbfgs' in 0.22. Specify a solver to silence this warning.\n",
      "  FutureWarning)\n",
      "/Users/zhujun/anaconda3/lib/python3.6/site-packages/sklearn/linear_model/logistic.py:432: FutureWarning: Default solver will be changed to 'lbfgs' in 0.22. Specify a solver to silence this warning.\n",
      "  FutureWarning)\n",
      "/Users/zhujun/anaconda3/lib/python3.6/site-packages/sklearn/linear_model/logistic.py:432: FutureWarning: Default solver will be changed to 'lbfgs' in 0.22. Specify a solver to silence this warning.\n",
      "  FutureWarning)\n",
      "/Users/zhujun/anaconda3/lib/python3.6/site-packages/sklearn/linear_model/logistic.py:432: FutureWarning: Default solver will be changed to 'lbfgs' in 0.22. Specify a solver to silence this warning.\n",
      "  FutureWarning)\n",
      "/Users/zhujun/anaconda3/lib/python3.6/site-packages/sklearn/linear_model/logistic.py:432: FutureWarning: Default solver will be changed to 'lbfgs' in 0.22. Specify a solver to silence this warning.\n",
      "  FutureWarning)\n",
      "/Users/zhujun/anaconda3/lib/python3.6/site-packages/sklearn/linear_model/logistic.py:432: FutureWarning: Default solver will be changed to 'lbfgs' in 0.22. Specify a solver to silence this warning.\n",
      "  FutureWarning)\n",
      "/Users/zhujun/anaconda3/lib/python3.6/site-packages/sklearn/linear_model/logistic.py:432: FutureWarning: Default solver will be changed to 'lbfgs' in 0.22. Specify a solver to silence this warning.\n",
      "  FutureWarning)\n",
      "/Users/zhujun/anaconda3/lib/python3.6/site-packages/sklearn/linear_model/logistic.py:432: FutureWarning: Default solver will be changed to 'lbfgs' in 0.22. Specify a solver to silence this warning.\n",
      "  FutureWarning)\n",
      "/Users/zhujun/anaconda3/lib/python3.6/site-packages/sklearn/linear_model/logistic.py:432: FutureWarning: Default solver will be changed to 'lbfgs' in 0.22. Specify a solver to silence this warning.\n",
      "  FutureWarning)\n",
      "/Users/zhujun/anaconda3/lib/python3.6/site-packages/sklearn/linear_model/logistic.py:432: FutureWarning: Default solver will be changed to 'lbfgs' in 0.22. Specify a solver to silence this warning.\n",
      "  FutureWarning)\n",
      "/Users/zhujun/anaconda3/lib/python3.6/site-packages/sklearn/linear_model/logistic.py:432: FutureWarning: Default solver will be changed to 'lbfgs' in 0.22. Specify a solver to silence this warning.\n",
      "  FutureWarning)\n",
      "/Users/zhujun/anaconda3/lib/python3.6/site-packages/sklearn/linear_model/logistic.py:432: FutureWarning: Default solver will be changed to 'lbfgs' in 0.22. Specify a solver to silence this warning.\n",
      "  FutureWarning)\n",
      "/Users/zhujun/anaconda3/lib/python3.6/site-packages/sklearn/linear_model/logistic.py:432: FutureWarning: Default solver will be changed to 'lbfgs' in 0.22. Specify a solver to silence this warning.\n",
      "  FutureWarning)\n",
      "/Users/zhujun/anaconda3/lib/python3.6/site-packages/sklearn/linear_model/logistic.py:432: FutureWarning: Default solver will be changed to 'lbfgs' in 0.22. Specify a solver to silence this warning.\n",
      "  FutureWarning)\n",
      "/Users/zhujun/anaconda3/lib/python3.6/site-packages/sklearn/linear_model/logistic.py:432: FutureWarning: Default solver will be changed to 'lbfgs' in 0.22. Specify a solver to silence this warning.\n",
      "  FutureWarning)\n",
      "/Users/zhujun/anaconda3/lib/python3.6/site-packages/sklearn/linear_model/logistic.py:432: FutureWarning: Default solver will be changed to 'lbfgs' in 0.22. Specify a solver to silence this warning.\n",
      "  FutureWarning)\n",
      "/Users/zhujun/anaconda3/lib/python3.6/site-packages/sklearn/linear_model/logistic.py:432: FutureWarning: Default solver will be changed to 'lbfgs' in 0.22. Specify a solver to silence this warning.\n",
      "  FutureWarning)\n",
      "/Users/zhujun/anaconda3/lib/python3.6/site-packages/sklearn/linear_model/logistic.py:432: FutureWarning: Default solver will be changed to 'lbfgs' in 0.22. Specify a solver to silence this warning.\n",
      "  FutureWarning)\n",
      "/Users/zhujun/anaconda3/lib/python3.6/site-packages/sklearn/linear_model/logistic.py:432: FutureWarning: Default solver will be changed to 'lbfgs' in 0.22. Specify a solver to silence this warning.\n",
      "  FutureWarning)\n",
      "/Users/zhujun/anaconda3/lib/python3.6/site-packages/sklearn/linear_model/logistic.py:432: FutureWarning: Default solver will be changed to 'lbfgs' in 0.22. Specify a solver to silence this warning.\n",
      "  FutureWarning)\n",
      "/Users/zhujun/anaconda3/lib/python3.6/site-packages/sklearn/linear_model/logistic.py:432: FutureWarning: Default solver will be changed to 'lbfgs' in 0.22. Specify a solver to silence this warning.\n",
      "  FutureWarning)\n",
      "/Users/zhujun/anaconda3/lib/python3.6/site-packages/sklearn/linear_model/logistic.py:432: FutureWarning: Default solver will be changed to 'lbfgs' in 0.22. Specify a solver to silence this warning.\n",
      "  FutureWarning)\n",
      "/Users/zhujun/anaconda3/lib/python3.6/site-packages/sklearn/linear_model/logistic.py:432: FutureWarning: Default solver will be changed to 'lbfgs' in 0.22. Specify a solver to silence this warning.\n",
      "  FutureWarning)\n",
      "/Users/zhujun/anaconda3/lib/python3.6/site-packages/sklearn/linear_model/logistic.py:432: FutureWarning: Default solver will be changed to 'lbfgs' in 0.22. Specify a solver to silence this warning.\n",
      "  FutureWarning)\n",
      "/Users/zhujun/anaconda3/lib/python3.6/site-packages/sklearn/linear_model/logistic.py:432: FutureWarning: Default solver will be changed to 'lbfgs' in 0.22. Specify a solver to silence this warning.\n",
      "  FutureWarning)\n",
      "/Users/zhujun/anaconda3/lib/python3.6/site-packages/sklearn/linear_model/logistic.py:432: FutureWarning: Default solver will be changed to 'lbfgs' in 0.22. Specify a solver to silence this warning.\n",
      "  FutureWarning)\n",
      "/Users/zhujun/anaconda3/lib/python3.6/site-packages/sklearn/linear_model/logistic.py:432: FutureWarning: Default solver will be changed to 'lbfgs' in 0.22. Specify a solver to silence this warning.\n",
      "  FutureWarning)\n",
      "/Users/zhujun/anaconda3/lib/python3.6/site-packages/sklearn/linear_model/logistic.py:432: FutureWarning: Default solver will be changed to 'lbfgs' in 0.22. Specify a solver to silence this warning.\n",
      "  FutureWarning)\n",
      "/Users/zhujun/anaconda3/lib/python3.6/site-packages/sklearn/linear_model/logistic.py:432: FutureWarning: Default solver will be changed to 'lbfgs' in 0.22. Specify a solver to silence this warning.\n",
      "  FutureWarning)\n",
      "/Users/zhujun/anaconda3/lib/python3.6/site-packages/sklearn/linear_model/logistic.py:432: FutureWarning: Default solver will be changed to 'lbfgs' in 0.22. Specify a solver to silence this warning.\n",
      "  FutureWarning)\n",
      "/Users/zhujun/anaconda3/lib/python3.6/site-packages/sklearn/linear_model/logistic.py:432: FutureWarning: Default solver will be changed to 'lbfgs' in 0.22. Specify a solver to silence this warning.\n",
      "  FutureWarning)\n"
     ]
    },
    {
     "name": "stdout",
     "output_type": "stream",
     "text": [
      "0.8115942028985509 {'C': 10, 'penalty': 'l2'}\n"
     ]
    }
   ],
   "source": [
    "from sklearn.model_selection import GridSearchCV\n",
    "\n",
    "clf = LogisticRegression()\n",
    "params = {'penalty' : ['l1', 'l2'], 'C': [0.01, 0.1, 1, 10, 100]}\n",
    "search = GridSearchCV(clf, param_grid=params, scoring='recall', cv=3)\n",
    "search.fit(X_train, y_train)\n",
    "print(search.best_score_, search.best_params_)"
   ]
  },
  {
   "cell_type": "code",
   "execution_count": 66,
   "metadata": {},
   "outputs": [
    {
     "name": "stderr",
     "output_type": "stream",
     "text": [
      "/Users/zhujun/anaconda3/lib/python3.6/site-packages/sklearn/utils/deprecation.py:125: FutureWarning: You are accessing a training score ('split0_train_score'), which will not be available by default any more in 0.21. If you need training scores, please set return_train_score=True\n",
      "  warnings.warn(*warn_args, **warn_kwargs)\n",
      "/Users/zhujun/anaconda3/lib/python3.6/site-packages/sklearn/utils/deprecation.py:125: FutureWarning: You are accessing a training score ('split1_train_score'), which will not be available by default any more in 0.21. If you need training scores, please set return_train_score=True\n",
      "  warnings.warn(*warn_args, **warn_kwargs)\n",
      "/Users/zhujun/anaconda3/lib/python3.6/site-packages/sklearn/utils/deprecation.py:125: FutureWarning: You are accessing a training score ('split2_train_score'), which will not be available by default any more in 0.21. If you need training scores, please set return_train_score=True\n",
      "  warnings.warn(*warn_args, **warn_kwargs)\n",
      "/Users/zhujun/anaconda3/lib/python3.6/site-packages/sklearn/utils/deprecation.py:125: FutureWarning: You are accessing a training score ('mean_train_score'), which will not be available by default any more in 0.21. If you need training scores, please set return_train_score=True\n",
      "  warnings.warn(*warn_args, **warn_kwargs)\n",
      "/Users/zhujun/anaconda3/lib/python3.6/site-packages/sklearn/utils/deprecation.py:125: FutureWarning: You are accessing a training score ('std_train_score'), which will not be available by default any more in 0.21. If you need training scores, please set return_train_score=True\n",
      "  warnings.warn(*warn_args, **warn_kwargs)\n"
     ]
    },
    {
     "data": {
      "text/plain": [
       "{'mean_fit_time': array([0.02718306, 0.0480504 , 0.02672911, 0.08422359, 0.06685026,\n",
       "        0.11001499, 0.16195885, 0.13092065, 0.14467557, 0.12672583]),\n",
       " 'std_fit_time': array([0.00334451, 0.00147257, 0.00332407, 0.00671703, 0.00799815,\n",
       "        0.00942214, 0.08040408, 0.02243785, 0.03727387, 0.01363335]),\n",
       " 'mean_score_time': array([0.00171367, 0.00138593, 0.00138028, 0.0014143 , 0.0014054 ,\n",
       "        0.00141104, 0.0014898 , 0.00140635, 0.00149377, 0.00141827]),\n",
       " 'std_score_time': array([2.72107389e-04, 1.87336934e-05, 1.57263918e-05, 3.59155782e-05,\n",
       "        3.23601930e-06, 8.61245294e-06, 4.20646476e-05, 1.29616312e-06,\n",
       "        1.28241175e-04, 2.40966638e-05]),\n",
       " 'param_C': masked_array(data=[0.01, 0.01, 0.1, 0.1, 1, 1, 10, 10, 100, 100],\n",
       "              mask=[False, False, False, False, False, False, False, False,\n",
       "                    False, False],\n",
       "        fill_value='?',\n",
       "             dtype=object),\n",
       " 'param_penalty': masked_array(data=['l1', 'l2', 'l1', 'l2', 'l1', 'l2', 'l1', 'l2', 'l1',\n",
       "                    'l2'],\n",
       "              mask=[False, False, False, False, False, False, False, False,\n",
       "                    False, False],\n",
       "        fill_value='?',\n",
       "             dtype=object),\n",
       " 'params': [{'C': 0.01, 'penalty': 'l1'},\n",
       "  {'C': 0.01, 'penalty': 'l2'},\n",
       "  {'C': 0.1, 'penalty': 'l1'},\n",
       "  {'C': 0.1, 'penalty': 'l2'},\n",
       "  {'C': 1, 'penalty': 'l1'},\n",
       "  {'C': 1, 'penalty': 'l2'},\n",
       "  {'C': 10, 'penalty': 'l1'},\n",
       "  {'C': 10, 'penalty': 'l2'},\n",
       "  {'C': 100, 'penalty': 'l1'},\n",
       "  {'C': 100, 'penalty': 'l2'}],\n",
       " 'split0_test_score': array([0.70652174, 0.80434783, 0.80434783, 0.82608696, 0.82608696,\n",
       "        0.82608696, 0.82608696, 0.83695652, 0.82608696, 0.82608696]),\n",
       " 'split1_test_score': array([0.69565217, 0.75      , 0.83695652, 0.83695652, 0.83695652,\n",
       "        0.83695652, 0.83695652, 0.83695652, 0.83695652, 0.83695652]),\n",
       " 'split2_test_score': array([0.59782609, 0.72826087, 0.76086957, 0.75      , 0.77173913,\n",
       "        0.77173913, 0.76086957, 0.76086957, 0.76086957, 0.76086957]),\n",
       " 'mean_test_score': array([0.66666667, 0.76086957, 0.80072464, 0.80434783, 0.8115942 ,\n",
       "        0.8115942 , 0.80797101, 0.8115942 , 0.80797101, 0.80797101]),\n",
       " 'std_test_score': array([0.04887948, 0.03199913, 0.03116785, 0.03868507, 0.02852901,\n",
       "        0.02852901, 0.03360007, 0.03586774, 0.03360007, 0.03360007]),\n",
       " 'rank_test_score': array([10,  9,  8,  7,  2,  2,  4,  1,  4,  4], dtype=int32),\n",
       " 'split0_train_score': array([0.69021739, 0.77173913, 0.79891304, 0.80978261, 0.82065217,\n",
       "        0.81521739, 0.82065217, 0.82065217, 0.82065217, 0.82065217]),\n",
       " 'split1_train_score': array([0.67391304, 0.76630435, 0.79891304, 0.80434783, 0.80978261,\n",
       "        0.80978261, 0.81521739, 0.81521739, 0.81521739, 0.81521739]),\n",
       " 'split2_train_score': array([0.67934783, 0.7826087 , 0.82065217, 0.82608696, 0.82608696,\n",
       "        0.82608696, 0.83695652, 0.83695652, 0.83695652, 0.83695652]),\n",
       " 'mean_train_score': array([0.68115942, 0.77355072, 0.80615942, 0.8134058 , 0.81884058,\n",
       "        0.81702899, 0.82427536, 0.82427536, 0.82427536, 0.82427536]),\n",
       " 'std_train_score': array([0.00677836, 0.00677836, 0.01024792, 0.00923735, 0.00677836,\n",
       "        0.00677836, 0.00923735, 0.00923735, 0.00923735, 0.00923735])}"
      ]
     },
     "execution_count": 66,
     "metadata": {},
     "output_type": "execute_result"
    }
   ],
   "source": [
    "search.cv_results_"
   ]
  },
  {
   "cell_type": "code",
   "execution_count": 67,
   "metadata": {},
   "outputs": [],
   "source": [
    "cv0 = search.cv_results_['split0_test_score']\n",
    "cv1 = search.cv_results_['split1_test_score']\n",
    "cv2 = search.cv_results_['split2_test_score']"
   ]
  },
  {
   "cell_type": "code",
   "execution_count": 68,
   "metadata": {},
   "outputs": [
    {
     "data": {
      "text/plain": [
       "array([[0.66666667, 0.76086957],\n",
       "       [0.80072464, 0.80434783],\n",
       "       [0.8115942 , 0.8115942 ],\n",
       "       [0.80797101, 0.8115942 ],\n",
       "       [0.80797101, 0.80797101]])"
      ]
     },
     "execution_count": 68,
     "metadata": {},
     "output_type": "execute_result"
    }
   ],
   "source": [
    "results = (cv0 + cv1 + cv2) / 3\n",
    "results = results.reshape(5, 2)\n",
    "results"
   ]
  },
  {
   "cell_type": "code",
   "execution_count": null,
   "metadata": {},
   "outputs": [],
   "source": []
  }
 ],
 "metadata": {
  "coursera": {
   "course_slug": "python-machine-learning",
   "graded_item_id": "5yX9Z",
   "launcher_item_id": "eqnV3",
   "part_id": "Msnj0"
  },
  "kernelspec": {
   "display_name": "Python 3",
   "language": "python",
   "name": "python3"
  },
  "language_info": {
   "codemirror_mode": {
    "name": "ipython",
    "version": 3
   },
   "file_extension": ".py",
   "mimetype": "text/x-python",
   "name": "python",
   "nbconvert_exporter": "python",
   "pygments_lexer": "ipython3",
   "version": "3.6.6"
  }
 },
 "nbformat": 4,
 "nbformat_minor": 2
}
